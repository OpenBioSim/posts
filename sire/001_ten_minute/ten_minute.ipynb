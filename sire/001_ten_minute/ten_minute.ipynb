{
 "cells": [
  {
   "cell_type": "markdown",
   "id": "110591fd-4053-451c-a39a-e20c67bca0ec",
   "metadata": {},
   "source": [
    "# Random Input 10-minute Challenge\n",
    "\n",
    "Julien gave me a 10-minute challenge. What could I learn from a random molecular input file using [sire](https://sire.openbiosim.org) in just 10 minutes? And so here I am, with the URLs for two files, `SYSTEM.top` and `SYSTEM.crd`.\n",
    "\n",
    "Step one was to get access to [sire](https://sire.openbiosim.org). That's pretty easy now that we've made it available through our Jupyter notebook service at https://try.openbiosim.org. I went to this service, logged in using my GitHub username, and then started a blank Jupyter notebook. In the top cell I imported [sire](https://sire.openbiosim.org), following the instructions we've put in the [quickstart guide](https://sire.openbiosim.org/quickstart/)."
   ]
  },
  {
   "cell_type": "code",
   "execution_count": null,
   "id": "1d98c8c3-ae23-4197-8a56-00e35e52b77c",
   "metadata": {},
   "outputs": [],
   "source": [
    "import sire as sr"
   ]
  },
  {
   "cell_type": "markdown",
   "id": "dc37da56-49d8-47d2-9807-2e2ee0e444fb",
   "metadata": {},
   "source": [
    "I'd been told that the files were in a GitHub repo, and that I could download them via the URL `https://github.com/OpenBioSim/posts/raw/main/sire/001_ten_minute`. This was worth putting into a variable..."
   ]
  },
  {
   "cell_type": "code",
   "execution_count": null,
   "id": "cbf1423c-ddb7-45e5-8ae0-411d6815138e",
   "metadata": {},
   "outputs": [],
   "source": [
    "url = \"https://github.com/OpenBioSim/posts/raw/main/sire/001_ten_minute\""
   ]
  },
  {
   "cell_type": "markdown",
   "id": "1c9f47dc-5347-4998-8ceb-03b7dc73f1ac",
   "metadata": {},
   "source": [
    "Rather than downloading the files myself, I used the new [sire.load](https://sire.openbiosim.org/tutorial/part01/02_loading_a_molecule.html) function to download and load the files directly from a URL. I used the [sire.expand](https://sire.openbiosim.org/tutorial/part01/05_loading_from_multiple_files.html#loading-from-multiple-files) function to specify multiple files at once, prefixing their names with the above `url`."
   ]
  },
  {
   "cell_type": "code",
   "execution_count": null,
   "id": "502a0dae-0edd-4c02-acac-c0f11858c4c6",
   "metadata": {},
   "outputs": [],
   "source": [
    "mols = sr.load(sr.expand(url, \"SYSTEM.top\", \"SYSTEM.crd\"))"
   ]
  },
  {
   "cell_type": "markdown",
   "id": "d8799210-4cf4-48a0-9b10-a603843f7227",
   "metadata": {},
   "source": [
    "This has returned the loaded molecules, which I've put into `mols`. Whenever I load something, I like to just print it to the screen to quickly see what I have got."
   ]
  },
  {
   "cell_type": "code",
   "execution_count": null,
   "id": "3fcb7f7f-29dd-484f-8b90-4ab841817fd1",
   "metadata": {},
   "outputs": [],
   "source": [
    "mols"
   ]
  },
  {
   "cell_type": "markdown",
   "id": "487a3007-fac8-4f18-9283-009aadccb596",
   "metadata": {},
   "source": [
    "Aha - so we can already see that this file contained 18,575 molecules, across 18,914 residues and 60,695 atoms. That's interesting, but we can do so much more!\n",
    "\n",
    "We can use [search functionality](https://sire.openbiosim.org/cheatsheet/search.html) to search for different molecules (and parts of molecules). A useful search term is `water`. This returns all of the water molecules that have been loaded."
   ]
  },
  {
   "cell_type": "code",
   "execution_count": null,
   "id": "599e5db4-39ec-40b3-8ff6-c0adf6b48f7c",
   "metadata": {},
   "outputs": [],
   "source": [
    "mols[\"water\"]"
   ]
  },
  {
   "cell_type": "markdown",
   "id": "f4b52025-d3ef-48b4-8f4e-e64c5da2f9b5",
   "metadata": {},
   "source": [
    "Not bad - there are quite a few! 18,459 of the 18,575 molecules are waters. So what about the rest? Another useful search term is `protein`..."
   ]
  },
  {
   "cell_type": "code",
   "execution_count": null,
   "id": "c6e23369-b465-48c7-b8e8-aeaeabcd3f93",
   "metadata": {},
   "outputs": [],
   "source": [
    "mols[\"protein\"]"
   ]
  },
  {
   "cell_type": "markdown",
   "id": "c16d4189-e8e2-4c59-a173-6fcff64e3ca4",
   "metadata": {},
   "source": [
    "Ok - three protein molecules, each of which has 1724 atoms over 114 residues. I suspect this may be a homotrimer? We can check by looking at the amino acid sequence of each protein.\n",
    "\n",
    "\n"
   ]
  },
  {
   "cell_type": "code",
   "execution_count": null,
   "id": "0fe79262-880f-41ec-8380-12e122910287",
   "metadata": {},
   "outputs": [],
   "source": [
    "proteins = mols[\"protein\"]\n",
    "\n",
    "seq1 = proteins[0].residues().names() \n",
    "\n",
    "print(\"Protein 2 has the same sequence as 1?\", seq1 == proteins[1].residues().names())\n",
    "print(\"Protein 3 has the same sequence as 1?\", seq1 == proteins[2].residues().names())"
   ]
  },
  {
   "cell_type": "markdown",
   "id": "15032bbc-eda2-40c4-97c4-c8b2323920b6",
   "metadata": {},
   "source": [
    "Not a homotrimer? How are they different?"
   ]
  },
  {
   "cell_type": "code",
   "execution_count": null,
   "id": "480337d5-d2f0-4a74-bdf9-c04bbc42c165",
   "metadata": {},
   "outputs": [],
   "source": [
    "seq3 = proteins[2].residues().names()\n",
    "\n",
    "for res1, res3 in zip(proteins[0].residues(), proteins[2].residues()):\n",
    "    if res1.name() != res3.name():\n",
    "        print(f\"{res1.name().value()}:{res1.number().value()} is different to \"\n",
    "              f\"{res3.name().value()}:{res3.number().value()}\\n\")\n",
    "\n",
    "print(\":\".join([x.value() for x in seq1]))\n",
    "print(\":\".join([x.value() for x in seq3]))"
   ]
  },
  {
   "cell_type": "markdown",
   "id": "b781d650-693a-4765-a92c-94d610a8aa8c",
   "metadata": {},
   "source": [
    "Ok - it is just a different in titration state for the histidine residues (HID:63 in the first protein versus HIE:291 in the third). Yes, I think we can call this a homotrimer.\n",
    "\n",
    "What else can we find? \n",
    "\n",
    "Unfortunately, there isn't an easy way to define a \"ligand\". So, instead, lets look for everything that is neither a protein or water..."
   ]
  },
  {
   "cell_type": "code",
   "execution_count": null,
   "id": "1d5df435-ba92-4f4d-a045-43e64ebf518b",
   "metadata": {},
   "outputs": [],
   "source": [
    "mols[\"not (protein or water)\"]"
   ]
  },
  {
   "cell_type": "markdown",
   "id": "363d54e8-c250-49df-859d-9f77a03007c5",
   "metadata": {},
   "source": [
    "It looks like we have 113 molecules. The first is called \"LIG\", so it probably is the ligand. The others look like sodium and chloride ions. Just to be sure that there is only one ligand, lets look for everything that has more than one atom, and is also not protein or water..."
   ]
  },
  {
   "cell_type": "code",
   "execution_count": null,
   "id": "ba5a8950-01d0-4335-94c3-e797c8abd20b",
   "metadata": {},
   "outputs": [],
   "source": [
    "ligand = mols[\"count(atoms) > 1 and not (protein or water)\"]\n",
    "ligand"
   ]
  },
  {
   "cell_type": "markdown",
   "id": "a5bf528f-c2c7-4928-8bd9-87ae219a28b7",
   "metadata": {},
   "source": [
    "Cool - we have a single ligand. But what does it look like? Let's use the [view function](https://sire.openbiosim.org/quickstart/index.html#quick-start-guide) and take a look."
   ]
  },
  {
   "cell_type": "code",
   "execution_count": null,
   "id": "2c77499f-2c55-4e45-ad89-cf46cf54828a",
   "metadata": {},
   "outputs": [],
   "source": [
    "ligand.view()"
   ]
  },
  {
   "cell_type": "markdown",
   "id": "e3046ebc-d48f-4696-bebf-e49b02961477",
   "metadata": {},
   "source": [
    "This is a nice 3D view of the ligand, that is built using [sire's](https://sire.openbiosim.org) integration with [nglview](https://nglviewer.org/#nglview).\n",
    "\n",
    "We can do more than just look at the molecule. The input files are in Amber format, so include molecular mechanics parameters for the molecules. This means we can use [sire's](https://sire.openbiosim.org) built-in molecular mechanics engine to [calculate the energy](https://sire.openbiosim.org/tutorial/part04/03_energies.html)."
   ]
  },
  {
   "cell_type": "code",
   "execution_count": null,
   "id": "5aa4cdcc-3882-4b44-bc0c-2ddd7b561402",
   "metadata": {},
   "outputs": [],
   "source": [
    "ligand.energy()"
   ]
  },
  {
   "cell_type": "markdown",
   "id": "5af36f1f-d933-458e-9930-676c14ba1f58",
   "metadata": {},
   "source": [
    "This has return the total energy of the ligand. But this energy is made up of components, such as the bond, angle and dihedral terms. We can access those too!"
   ]
  },
  {
   "cell_type": "code",
   "execution_count": null,
   "id": "58725350-54dd-4220-8642-7e607850f9b5",
   "metadata": {},
   "outputs": [],
   "source": [
    "ligand.energy().components()"
   ]
  },
  {
   "cell_type": "markdown",
   "id": "60bfd79e-560a-4993-883c-aa063b624158",
   "metadata": {},
   "source": [
    "It's interesting, looking at these energies, that the molecule appears to be in a higher energy conformation. The total energy is positive (over 37 kcal mol-1), driven by high angle, dihedral and 1-4 non-bonded energies. Maybe being bound to the protein has forced the ligand into an unfavourable conformation?\n",
    "\n",
    "To find out, let's look to see what is around the ligand. It would be really convenient to have a `ligand` search term... Fortunately, we have the power to create our own search terms via [sire.search.set_token](https://sire.openbiosim.org/cheatsheet/search.html#creating-custom-search-tokens)."
   ]
  },
  {
   "cell_type": "code",
   "execution_count": null,
   "id": "5d13462a-f808-472e-8029-ff4a8f222297",
   "metadata": {},
   "outputs": [],
   "source": [
    "sr.search.set_token(\"ligand\", \"count(atoms) > 1 and not (protein or water)\")"
   ]
  },
  {
   "cell_type": "markdown",
   "id": "2cfafe4a-1e8b-4a5a-a893-0582c6e908b4",
   "metadata": {},
   "source": [
    "This has created the token `ligand`, meaning we can now use this directly to search for ligand molecules..."
   ]
  },
  {
   "cell_type": "code",
   "execution_count": null,
   "id": "facde71f-41c2-40d4-979b-1862006dd8a6",
   "metadata": {},
   "outputs": [],
   "source": [
    "ligand = mols[\"ligand\"]\n",
    "ligand"
   ]
  },
  {
   "cell_type": "markdown",
   "id": "51d0edcb-0289-4cac-b945-c60335092432",
   "metadata": {},
   "source": [
    "Let's now find all the protein residues that are within 3 Å of the ligand..."
   ]
  },
  {
   "cell_type": "code",
   "execution_count": null,
   "id": "559b3471-0afb-40ac-a206-843a8c91639e",
   "metadata": {},
   "outputs": [],
   "source": [
    "residues = mols[\"(residues within 3 of ligand) and protein\"]\n",
    "residues"
   ]
  },
  {
   "cell_type": "markdown",
   "id": "b7e39001-d966-4789-bad9-096f9163a159",
   "metadata": {},
   "source": [
    "There are 12 residues. These appear to be from only two of the protein molecules. We can confirm by asking for the molecules that contain these residues..."
   ]
  },
  {
   "cell_type": "code",
   "execution_count": null,
   "id": "9fd1d632-c88e-4008-83a3-90b4afcdfe0a",
   "metadata": {},
   "outputs": [],
   "source": [
    "residues.molecules()"
   ]
  },
  {
   "cell_type": "markdown",
   "id": "191cd399-f410-4352-99ac-1ecb4be7d993",
   "metadata": {},
   "source": [
    "Yep - just two of the protein chains have residues that are within 3 Å of the ligand (at least for this conformation). Let's take a look at these residues..."
   ]
  },
  {
   "cell_type": "code",
   "execution_count": null,
   "id": "42468701-23ae-472c-a30c-d80ef4805604",
   "metadata": {},
   "outputs": [],
   "source": [
    "residues.view()"
   ]
  },
  {
   "cell_type": "markdown",
   "id": "31f0242d-0884-4963-b937-5b9d8a460553",
   "metadata": {},
   "source": [
    "They form a nice little pocket which I think the ligand would fit nicely into..."
   ]
  },
  {
   "cell_type": "code",
   "execution_count": null,
   "id": "1c893e21-24bb-413e-bfd7-488f0c21ff0f",
   "metadata": {},
   "outputs": [],
   "source": [
    "mols[\"((residues within 3 of ligand) and protein) or ligand\"].view()"
   ]
  },
  {
   "cell_type": "markdown",
   "id": "795f2db9-7c34-47f0-805d-3d9afd1f9c60",
   "metadata": {},
   "source": [
    "Yes, that does look pretty snug. But how snug?\n",
    "\n",
    "Let's loop over all the residues and calculate their energy with the ligand. We'll put this into a python dictionary, in a format that will make it easy to analyse via [pandas](https://pandas.pydata.org) later..."
   ]
  },
  {
   "cell_type": "code",
   "execution_count": null,
   "id": "2ecf52dc-19e0-4600-9773-3fd536f71972",
   "metadata": {},
   "outputs": [],
   "source": [
    "data = {\"residue\": [], \"component\": [], \"energy\": []}\n",
    "\n",
    "for residue in residues:\n",
    "    # get the name and number of each residue as an ID\n",
    "    resid = f\"{residue.name().value()}:{residue.number().value()}\"\n",
    "    \n",
    "    # calculate the energy between this residue and the ligand\n",
    "    energy = residue.energy(ligand)\n",
    "    \n",
    "    # now save the components of this residue into the dictionary above...\n",
    "    for component in energy.components():\n",
    "        data[\"residue\"].append(resid)\n",
    "        data[\"component\"].append(component)\n",
    "        data[\"energy\"].append(energy[component].to(sr.units.kcal_per_mol))\n",
    "\n",
    "    # also save the total energy into the dictionary\n",
    "    data[\"residue\"].append(resid)\n",
    "    data[\"component\"].append(\"total\")\n",
    "    data[\"energy\"].append(energy.to(sr.units.kcal_per_mol))"
   ]
  },
  {
   "cell_type": "markdown",
   "id": "b56c844d-f78b-4d02-8668-9e5ae08147cc",
   "metadata": {},
   "source": [
    "I chose the dictionary format above as it makes it really easy to import this data into a [pandas DataFrame](https://pandas.pydata.org/docs/reference/api/pandas.DataFrame.from_dict.html)."
   ]
  },
  {
   "cell_type": "code",
   "execution_count": null,
   "id": "25c4ae3f-4a49-4ecc-bbc0-c8af1fbd73b2",
   "metadata": {},
   "outputs": [],
   "source": [
    "import pandas as pd\n",
    "df = pd.DataFrame.from_dict(data)\n",
    "df"
   ]
  },
  {
   "cell_type": "markdown",
   "id": "e54b703b-9578-4b40-8fd2-49a2dd6560d7",
   "metadata": {},
   "source": [
    "Now this is in a DataFrame, we can use the in-built plotting tools to create a bar chart of the total energies..."
   ]
  },
  {
   "cell_type": "code",
   "execution_count": null,
   "id": "81f4773c-6aba-4834-b6a2-43a7e042a924",
   "metadata": {},
   "outputs": [],
   "source": [
    "df[ df[\"component\"] == \"total\" ].plot.bar(x=\"residue\")"
   ]
  },
  {
   "cell_type": "markdown",
   "id": "6d1c6385-48c9-4ee7-a94d-fafb1baf5bf4",
   "metadata": {},
   "source": [
    "It is clear that the interaction between the ligand and LYS:33 is the strongest and most favourable. This interaction will have both coulomb and Lennard Jones components..."
   ]
  },
  {
   "cell_type": "code",
   "execution_count": null,
   "id": "c7d79ba4-e948-48be-82f8-9055acd8fc95",
   "metadata": {},
   "outputs": [],
   "source": [
    "df[ df[\"component\"] == \"LJ\" ].plot.bar(x=\"residue\")"
   ]
  },
  {
   "cell_type": "markdown",
   "id": "552221c6-2475-4edd-b423-8314f147dc2f",
   "metadata": {},
   "source": [
    "The Lennard Jones components are relatively small, but all (except for ASN:326) pretty favourable..."
   ]
  },
  {
   "cell_type": "code",
   "execution_count": null,
   "id": "d8f94f5d-354d-4e43-9479-251c85d1e557",
   "metadata": {},
   "outputs": [],
   "source": [
    "df[ df[\"component\"] == \"coulomb\" ].plot.bar(x=\"residue\")"
   ]
  },
  {
   "cell_type": "markdown",
   "id": "43b6c6cb-5f7f-49f2-9178-cc5ddc0f23cd",
   "metadata": {},
   "source": [
    "The coulomb components are driven by LYS:33 and ASN:326. Indeed, most of the favourable binding energy appears to be coming from the coulomb interaction between LYS:33 and the ligand. Let's take a look to see if we can understand why?"
   ]
  },
  {
   "cell_type": "code",
   "execution_count": null,
   "id": "97c7eb88-1fc7-4c2f-ad3f-de8626d1c62d",
   "metadata": {},
   "outputs": [],
   "source": [
    "mols[\"ligand or (resname LYS and resnum 33)\"].view()"
   ]
  },
  {
   "cell_type": "markdown",
   "id": "b507e032-d4fb-4e2e-aeca-7f17b261bcda",
   "metadata": {},
   "source": [
    "Maybe there is a specific atom-atom interaction that is responsible? To check, we can loop over all pairs of atoms between the ligand and this residue to find the closest pair..."
   ]
  },
  {
   "cell_type": "code",
   "execution_count": null,
   "id": "4b669d07-1a37-486f-96f0-ca83601a52b8",
   "metadata": {},
   "outputs": [],
   "source": [
    "# Start by setting the closest value to a large distance...\n",
    "closest = (1000 * sr.units.angstrom, None, None)\n",
    "\n",
    "# loop over all atoms in LYS:33\n",
    "for atom0 in mols[\"resname LYS and resnum 33\"].atoms():\n",
    "    # and then loop over all atoms in the ligand\n",
    "    for atom1 in ligand:\n",
    "        # calculate their distance using the sr.measure function...\n",
    "        dist = sr.measure(atom0, atom1)\n",
    "        \n",
    "        # if the distance is less than `closest`, then save this\n",
    "        # distance and the pair of atoms\n",
    "        if dist < closest[0]:\n",
    "            closest = (dist, atom0, atom1)"
   ]
  },
  {
   "cell_type": "markdown",
   "id": "8ba7c733-4211-4ce6-8b83-5e279793dab1",
   "metadata": {},
   "source": [
    "The above code uses the [sire.measure](https://sire.openbiosim.org/tutorial/part04/01_measure.html#making-measurements-between-atoms) function. This can be used to measure lengths, angles and torsions between pretty much anything in [sire](https://sire.openbiosim.org). In this case, it calculated the distance between each pair of atoms. The closest pair were saved into the variable `closest`."
   ]
  },
  {
   "cell_type": "code",
   "execution_count": null,
   "id": "e4c2f10c-cfea-4daf-9cba-4a037d54e6c4",
   "metadata": {},
   "outputs": [],
   "source": [
    "print(closest)"
   ]
  },
  {
   "cell_type": "markdown",
   "id": "3389af3a-f7c2-4d2f-aaaa-490f4a7a4141",
   "metadata": {},
   "source": [
    "The two closest atoms were HZ1 of LYS:33 and NAM of the ligand. We can calculate their interaction energies using the [energy](https://sire.openbiosim.org/tutorial/part04/03_energies.html#getting-energy-components) function again..."
   ]
  },
  {
   "cell_type": "code",
   "execution_count": null,
   "id": "1bf4a132-f413-4900-a961-7c1f67efa67f",
   "metadata": {},
   "outputs": [],
   "source": [
    "atom0 = closest[1]\n",
    "atom1 = closest[2]\n",
    "\n",
    "print(atom0.energy(atom1))\n",
    "print(atom0.energy(atom1).components())"
   ]
  },
  {
   "cell_type": "markdown",
   "id": "7621ecf9-2f85-4f41-81ca-ec432e2771f6",
   "metadata": {},
   "source": [
    "This energy is a significant chunk of the residue-ligand energy.\n",
    "\n",
    "With this, my 10 minutes are up. So what did I find?\n",
    "\n",
    "1. This is a model of a ligand bound to a large trimeric protein (a homotrimer, but one where the titratio state of a histindine is different between the first and third proteins). This is solvated in a bath of water molecules and counter ions.\n",
    "2. The ligand is bound in a slightly unfavourable conformation.\n",
    "3. The closest residues are from two of the proteins, which form a pocket within which the ligand has bound.\n",
    "4. The ligand is bound most tightly to LYS:33, through a strong electrostatic interaction\n",
    "5. This interaction is mostly between the HZ1 atom of lysine and NAM atom of the ligand. These two atoms are separated by 2.4 Å.\n",
    "\n",
    "Given another 10 minutes, and perhaps even a dynamics trajectory, I wonder what else I can find? But, for now, Julien, how did I do?"
   ]
  },
  {
   "cell_type": "code",
   "execution_count": null,
   "id": "26e76ffc-920a-4e38-b7ab-fafa2595e31c",
   "metadata": {},
   "outputs": [],
   "source": []
  }
 ],
 "metadata": {
  "kernelspec": {
   "display_name": "Python 3 (ipykernel)",
   "language": "python",
   "name": "python3"
  },
  "language_info": {
   "codemirror_mode": {
    "name": "ipython",
    "version": 3
   },
   "file_extension": ".py",
   "mimetype": "text/x-python",
   "name": "python",
   "nbconvert_exporter": "python",
   "pygments_lexer": "ipython3",
   "version": "3.10.9"
  }
 },
 "nbformat": 4,
 "nbformat_minor": 5
}
