{
 "cells": [
  {
   "cell_type": "code",
   "execution_count": 1,
   "id": "1d98c8c3-ae23-4197-8a56-00e35e52b77c",
   "metadata": {},
   "outputs": [],
   "source": [
    "import sire as sr"
   ]
  },
  {
   "cell_type": "code",
   "execution_count": 2,
   "id": "cbf1423c-ddb7-45e5-8ae0-411d6815138e",
   "metadata": {},
   "outputs": [],
   "source": [
    "url = \"https://github.com/michellab/Multiple-Distance-Restraints/raw/\" \\\n",
    "      \"main/example_input/bound/boresch/template/discharge/input\""
   ]
  },
  {
   "cell_type": "code",
   "execution_count": 3,
   "id": "502a0dae-0edd-4c02-acac-c0f11858c4c6",
   "metadata": {},
   "outputs": [
    {
     "name": "stdout",
     "output_type": "stream",
     "text": [
      "Downloading from 'https://github.com/michellab/Multiple-Distance-Restraints/raw/main/example_input/bound/boresch/template/discharge/input/SYSTEM.top'...\n",
      "Downloading from 'https://github.com/michellab/Multiple-Distance-Restraints/raw/main/example_input/bound/boresch/template/discharge/input/SYSTEM.crd'...\n"
     ]
    }
   ],
   "source": [
    "mols = sr.load(sr.expand(url, \"SYSTEM.top\", \"SYSTEM.crd\"))"
   ]
  },
  {
   "cell_type": "code",
   "execution_count": 4,
   "id": "3fcb7f7f-29dd-484f-8b90-4ab841817fd1",
   "metadata": {},
   "outputs": [
    {
     "data": {
      "text/plain": [
       "System( name=BioSimSpace Syst num_molecules=18575 num_residues=18914 num_atoms=60695 )"
      ]
     },
     "execution_count": 4,
     "metadata": {},
     "output_type": "execute_result"
    }
   ],
   "source": [
    "mols"
   ]
  },
  {
   "cell_type": "code",
   "execution_count": 5,
   "id": "599e5db4-39ec-40b3-8ff6-c0adf6b48f7c",
   "metadata": {},
   "outputs": [
    {
     "data": {
      "application/vnd.jupyter.widget-view+json": {
       "model_id": "57c3fd4406d542ebb0dd89126f060e04",
       "version_major": 2,
       "version_minor": 0
      },
      "text/plain": []
     },
     "metadata": {},
     "output_type": "display_data"
    },
    {
     "name": "stderr",
     "output_type": "stream",
     "text": [
      "INFO:rdkit:Enabling RDKit 2022.09.4 jupyter extensions\n"
     ]
    },
    {
     "data": {
      "text/plain": [
       "SelectorMol( size=18459\n",
       "0: Molecule( WAT:6   num_atoms=3 num_residues=1 )\n",
       "1: Molecule( WAT:7   num_atoms=3 num_residues=1 )\n",
       "2: Molecule( WAT:8   num_atoms=3 num_residues=1 )\n",
       "3: Molecule( WAT:9   num_atoms=3 num_residues=1 )\n",
       "4: Molecule( WAT:10  num_atoms=3 num_residues=1 )\n",
       "...\n",
       "18454: Molecule( WAT:18460 num_atoms=3 num_residues=1 )\n",
       "18455: Molecule( WAT:18461 num_atoms=3 num_residues=1 )\n",
       "18456: Molecule( WAT:18462 num_atoms=3 num_residues=1 )\n",
       "18457: Molecule( WAT:18463 num_atoms=3 num_residues=1 )\n",
       "18458: Molecule( WAT:18464 num_atoms=3 num_residues=1 )\n",
       ")"
      ]
     },
     "execution_count": 5,
     "metadata": {},
     "output_type": "execute_result"
    }
   ],
   "source": [
    "mols[\"water\"]"
   ]
  },
  {
   "cell_type": "code",
   "execution_count": 6,
   "id": "c6e23369-b465-48c7-b8e8-aeaeabcd3f93",
   "metadata": {},
   "outputs": [
    {
     "data": {
      "text/plain": [
       "SelectorMol( size=3\n",
       "0: Molecule( BioSimSpace Syst:3 num_atoms=1724 num_residues=114 )\n",
       "1: Molecule( BioSimSpace Syst:4 num_atoms=1724 num_residues=114 )\n",
       "2: Molecule( BioSimSpace Syst:5 num_atoms=1724 num_residues=114 )\n",
       ")"
      ]
     },
     "execution_count": 6,
     "metadata": {},
     "output_type": "execute_result"
    }
   ],
   "source": [
    "mols[\"protein\"]"
   ]
  },
  {
   "cell_type": "code",
   "execution_count": 7,
   "id": "1d5df435-ba92-4f4d-a045-43e64ebf518b",
   "metadata": {},
   "outputs": [
    {
     "data": {
      "text/plain": [
       "SelectorMol( size=113\n",
       "0: Molecule( LIG:2   num_atoms=34 num_residues=1 )\n",
       "1: Molecule( NA:18465 num_atoms=1 num_residues=1 )\n",
       "2: Molecule( NA:18466 num_atoms=1 num_residues=1 )\n",
       "3: Molecule( NA:18467 num_atoms=1 num_residues=1 )\n",
       "4: Molecule( NA:18468 num_atoms=1 num_residues=1 )\n",
       "...\n",
       "108: Molecule( CL:18572 num_atoms=1 num_residues=1 )\n",
       "109: Molecule( CL:18573 num_atoms=1 num_residues=1 )\n",
       "110: Molecule( CL:18574 num_atoms=1 num_residues=1 )\n",
       "111: Molecule( CL:18575 num_atoms=1 num_residues=1 )\n",
       "112: Molecule( CL:18576 num_atoms=1 num_residues=1 )\n",
       ")"
      ]
     },
     "execution_count": 7,
     "metadata": {},
     "output_type": "execute_result"
    }
   ],
   "source": [
    "mols[\"not (protein or water)\"]"
   ]
  },
  {
   "cell_type": "code",
   "execution_count": 8,
   "id": "ba5a8950-01d0-4335-94c3-e797c8abd20b",
   "metadata": {},
   "outputs": [
    {
     "data": {
      "text/plain": [
       "Selector<SireMol::Atom>( size=34\n",
       "0:  Atom( CAB:1   [  46.67,   46.32,   39.01] )\n",
       "1:  Atom( CAC:2   [  45.40,   46.10,   38.47] )\n",
       "2:  Atom( CAD:3   [  38.93,   47.09,   48.24] )\n",
       "3:  Atom( CAE:4   [  40.85,   45.67,   48.76] )\n",
       "4:  Atom( CAF:5   [  39.20,   47.00,   46.87] )\n",
       "...\n",
       "29:  Atom( H08:30  [  47.83,   46.54,   40.80] )\n",
       "30:  Atom( H09:31  [  43.34,   46.25,   38.78] )\n",
       "31:  Atom( H10:32  [  46.89,   46.55,   43.06] )\n",
       "32:  Atom( H11:33  [  42.90,   47.23,   45.54] )\n",
       "33:  Atom( H12:34  [  39.01,   47.34,   50.61] )\n",
       ")"
      ]
     },
     "execution_count": 8,
     "metadata": {},
     "output_type": "execute_result"
    }
   ],
   "source": [
    "ligand = mols[\"count(atoms) > 1 and not (protein or water)\"]\n",
    "ligand"
   ]
  },
  {
   "cell_type": "code",
   "execution_count": 9,
   "id": "2c77499f-2c55-4e45-ad89-cf46cf54828a",
   "metadata": {},
   "outputs": [
    {
     "data": {
      "application/vnd.jupyter.widget-view+json": {
       "model_id": "04c09e88a43943c29b8d636baf78ebb0",
       "version_major": 2,
       "version_minor": 0
      },
      "text/plain": [
       "NGLWidget()"
      ]
     },
     "metadata": {},
     "output_type": "display_data"
    }
   ],
   "source": [
    "ligand.view()"
   ]
  },
  {
   "cell_type": "code",
   "execution_count": 10,
   "id": "5aa4cdcc-3882-4b44-bc0c-2ddd7b561402",
   "metadata": {},
   "outputs": [
    {
     "data": {
      "text/plain": [
       "37.4462 kcal mol-1"
      ]
     },
     "execution_count": 10,
     "metadata": {},
     "output_type": "execute_result"
    }
   ],
   "source": [
    "ligand.energy()"
   ]
  },
  {
   "cell_type": "code",
   "execution_count": 11,
   "id": "58725350-54dd-4220-8642-7e607850f9b5",
   "metadata": {},
   "outputs": [
    {
     "data": {
      "text/plain": [
       "{'1-4_coulomb': 23.0059 kcal mol-1,\n",
       " 'bond': 3.61085e-08 kcal mol-1,\n",
       " 'dihedral': 13.224 kcal mol-1,\n",
       " 'intra_LJ': -2.15026 kcal mol-1,\n",
       " 'improper': 1.43778 kcal mol-1,\n",
       " 'intra_coulomb': -29.7164 kcal mol-1,\n",
       " 'angle': 19.6622 kcal mol-1,\n",
       " '1-4_LJ': 11.9829 kcal mol-1}"
      ]
     },
     "execution_count": 11,
     "metadata": {},
     "output_type": "execute_result"
    }
   ],
   "source": [
    "ligand.energy().components()"
   ]
  },
  {
   "cell_type": "code",
   "execution_count": 12,
   "id": "5d13462a-f808-472e-8029-ff4a8f222297",
   "metadata": {},
   "outputs": [],
   "source": [
    "sr.search.set_token(\"ligand\", \"count(atoms) > 1 and not (protein or water)\")"
   ]
  },
  {
   "cell_type": "code",
   "execution_count": 13,
   "id": "559b3471-0afb-40ac-a206-843a8c91639e",
   "metadata": {},
   "outputs": [],
   "source": [
    "residues = mols[\"(residues within 3 of ligand) and protein\"]"
   ]
  },
  {
   "cell_type": "code",
   "execution_count": 14,
   "id": "9fd1d632-c88e-4008-83a3-90b4afcdfe0a",
   "metadata": {},
   "outputs": [
    {
     "data": {
      "text/plain": [
       "SelectorMol( size=2\n",
       "0: Molecule( BioSimSpace Syst:3 num_atoms=1724 num_residues=114 )\n",
       "1: Molecule( BioSimSpace Syst:5 num_atoms=1724 num_residues=114 )\n",
       ")"
      ]
     },
     "execution_count": 14,
     "metadata": {},
     "output_type": "execute_result"
    }
   ],
   "source": [
    "residues.molecules()"
   ]
  },
  {
   "cell_type": "code",
   "execution_count": 15,
   "id": "42468701-23ae-472c-a30c-d80ef4805604",
   "metadata": {},
   "outputs": [
    {
     "data": {
      "application/vnd.jupyter.widget-view+json": {
       "model_id": "6d9c0ca9fbcc40478b3774612d696eac",
       "version_major": 2,
       "version_minor": 0
      },
      "text/plain": [
       "NGLWidget()"
      ]
     },
     "metadata": {},
     "output_type": "display_data"
    }
   ],
   "source": [
    "residues.view()"
   ]
  },
  {
   "cell_type": "code",
   "execution_count": 16,
   "id": "2ecf52dc-19e0-4600-9773-3fd536f71972",
   "metadata": {},
   "outputs": [],
   "source": [
    "data = {\"residue\": [], \"component\": [], \"energy\": []}\n",
    "\n",
    "for residue, energy in residues.apply(lambda res: (res, res.energy(ligand))):\n",
    "    resid = f\"{residue.name().value()}:{residue.number().value()}\"\n",
    "    \n",
    "    for component in energy.components():\n",
    "        data[\"residue\"].append(resid)\n",
    "        data[\"component\"].append(component)\n",
    "        data[\"energy\"].append(energy[component].to(sr.units.kcal_per_mol))\n",
    "    \n",
    "    data[\"residue\"].append(resid)\n",
    "    data[\"component\"].append(\"total\")\n",
    "    data[\"energy\"].append(energy.to(sr.units.kcal_per_mol))"
   ]
  },
  {
   "cell_type": "code",
   "execution_count": 17,
   "id": "25c4ae3f-4a49-4ecc-bbc0-c8af1fbd73b2",
   "metadata": {},
   "outputs": [
    {
     "name": "stderr",
     "output_type": "stream",
     "text": [
      "INFO:numexpr.utils:Note: NumExpr detected 10 cores but \"NUMEXPR_MAX_THREADS\" not set, so enforcing safe limit of 8.\n",
      "INFO:numexpr.utils:NumExpr defaulting to 8 threads.\n"
     ]
    },
    {
     "data": {
      "text/html": [
       "<div>\n",
       "<style scoped>\n",
       "    .dataframe tbody tr th:only-of-type {\n",
       "        vertical-align: middle;\n",
       "    }\n",
       "\n",
       "    .dataframe tbody tr th {\n",
       "        vertical-align: top;\n",
       "    }\n",
       "\n",
       "    .dataframe thead th {\n",
       "        text-align: right;\n",
       "    }\n",
       "</style>\n",
       "<table border=\"1\" class=\"dataframe\">\n",
       "  <thead>\n",
       "    <tr style=\"text-align: right;\">\n",
       "      <th></th>\n",
       "      <th>residue</th>\n",
       "      <th>component</th>\n",
       "      <th>energy</th>\n",
       "    </tr>\n",
       "  </thead>\n",
       "  <tbody>\n",
       "    <tr>\n",
       "      <th>0</th>\n",
       "      <td>PRT:2</td>\n",
       "      <td>coulomb</td>\n",
       "      <td>-1.871054</td>\n",
       "    </tr>\n",
       "    <tr>\n",
       "      <th>1</th>\n",
       "      <td>PRT:2</td>\n",
       "      <td>LJ</td>\n",
       "      <td>-3.929312</td>\n",
       "    </tr>\n",
       "    <tr>\n",
       "      <th>2</th>\n",
       "      <td>PRT:2</td>\n",
       "      <td>total</td>\n",
       "      <td>-5.800366</td>\n",
       "    </tr>\n",
       "    <tr>\n",
       "      <th>3</th>\n",
       "      <td>MET:3</td>\n",
       "      <td>coulomb</td>\n",
       "      <td>-0.177925</td>\n",
       "    </tr>\n",
       "    <tr>\n",
       "      <th>4</th>\n",
       "      <td>MET:3</td>\n",
       "      <td>LJ</td>\n",
       "      <td>-2.531279</td>\n",
       "    </tr>\n",
       "    <tr>\n",
       "      <th>5</th>\n",
       "      <td>MET:3</td>\n",
       "      <td>total</td>\n",
       "      <td>-2.709204</td>\n",
       "    </tr>\n",
       "    <tr>\n",
       "      <th>6</th>\n",
       "      <td>LYS:33</td>\n",
       "      <td>coulomb</td>\n",
       "      <td>-24.507839</td>\n",
       "    </tr>\n",
       "    <tr>\n",
       "      <th>7</th>\n",
       "      <td>LYS:33</td>\n",
       "      <td>LJ</td>\n",
       "      <td>-3.652179</td>\n",
       "    </tr>\n",
       "    <tr>\n",
       "      <th>8</th>\n",
       "      <td>LYS:33</td>\n",
       "      <td>total</td>\n",
       "      <td>-28.160018</td>\n",
       "    </tr>\n",
       "    <tr>\n",
       "      <th>9</th>\n",
       "      <td>PRO:34</td>\n",
       "      <td>coulomb</td>\n",
       "      <td>0.388650</td>\n",
       "    </tr>\n",
       "    <tr>\n",
       "      <th>10</th>\n",
       "      <td>PRO:34</td>\n",
       "      <td>LJ</td>\n",
       "      <td>-2.216911</td>\n",
       "    </tr>\n",
       "    <tr>\n",
       "      <th>11</th>\n",
       "      <td>PRO:34</td>\n",
       "      <td>total</td>\n",
       "      <td>-1.828261</td>\n",
       "    </tr>\n",
       "    <tr>\n",
       "      <th>12</th>\n",
       "      <td>TYR:37</td>\n",
       "      <td>coulomb</td>\n",
       "      <td>-2.063485</td>\n",
       "    </tr>\n",
       "    <tr>\n",
       "      <th>13</th>\n",
       "      <td>TYR:37</td>\n",
       "      <td>LJ</td>\n",
       "      <td>-3.317952</td>\n",
       "    </tr>\n",
       "    <tr>\n",
       "      <th>14</th>\n",
       "      <td>TYR:37</td>\n",
       "      <td>total</td>\n",
       "      <td>-5.381437</td>\n",
       "    </tr>\n",
       "    <tr>\n",
       "      <th>15</th>\n",
       "      <td>SER:64</td>\n",
       "      <td>coulomb</td>\n",
       "      <td>-0.420798</td>\n",
       "    </tr>\n",
       "    <tr>\n",
       "      <th>16</th>\n",
       "      <td>SER:64</td>\n",
       "      <td>LJ</td>\n",
       "      <td>-2.295974</td>\n",
       "    </tr>\n",
       "    <tr>\n",
       "      <th>17</th>\n",
       "      <td>SER:64</td>\n",
       "      <td>total</td>\n",
       "      <td>-2.716772</td>\n",
       "    </tr>\n",
       "    <tr>\n",
       "      <th>18</th>\n",
       "      <td>ILE:65</td>\n",
       "      <td>coulomb</td>\n",
       "      <td>-1.177465</td>\n",
       "    </tr>\n",
       "    <tr>\n",
       "      <th>19</th>\n",
       "      <td>ILE:65</td>\n",
       "      <td>LJ</td>\n",
       "      <td>-3.477019</td>\n",
       "    </tr>\n",
       "    <tr>\n",
       "      <th>20</th>\n",
       "      <td>ILE:65</td>\n",
       "      <td>total</td>\n",
       "      <td>-4.654484</td>\n",
       "    </tr>\n",
       "    <tr>\n",
       "      <th>21</th>\n",
       "      <td>MET:102</td>\n",
       "      <td>coulomb</td>\n",
       "      <td>1.280213</td>\n",
       "    </tr>\n",
       "    <tr>\n",
       "      <th>22</th>\n",
       "      <td>MET:102</td>\n",
       "      <td>LJ</td>\n",
       "      <td>-0.950707</td>\n",
       "    </tr>\n",
       "    <tr>\n",
       "      <th>23</th>\n",
       "      <td>MET:102</td>\n",
       "      <td>total</td>\n",
       "      <td>0.329506</td>\n",
       "    </tr>\n",
       "    <tr>\n",
       "      <th>24</th>\n",
       "      <td>VAL:107</td>\n",
       "      <td>coulomb</td>\n",
       "      <td>0.973719</td>\n",
       "    </tr>\n",
       "    <tr>\n",
       "      <th>25</th>\n",
       "      <td>VAL:107</td>\n",
       "      <td>LJ</td>\n",
       "      <td>-2.228941</td>\n",
       "    </tr>\n",
       "    <tr>\n",
       "      <th>26</th>\n",
       "      <td>VAL:107</td>\n",
       "      <td>total</td>\n",
       "      <td>-1.255223</td>\n",
       "    </tr>\n",
       "    <tr>\n",
       "      <th>27</th>\n",
       "      <td>PHE:114</td>\n",
       "      <td>coulomb</td>\n",
       "      <td>0.466897</td>\n",
       "    </tr>\n",
       "    <tr>\n",
       "      <th>28</th>\n",
       "      <td>PHE:114</td>\n",
       "      <td>LJ</td>\n",
       "      <td>-2.915460</td>\n",
       "    </tr>\n",
       "    <tr>\n",
       "      <th>29</th>\n",
       "      <td>PHE:114</td>\n",
       "      <td>total</td>\n",
       "      <td>-2.448563</td>\n",
       "    </tr>\n",
       "    <tr>\n",
       "      <th>30</th>\n",
       "      <td>TYR:324</td>\n",
       "      <td>coulomb</td>\n",
       "      <td>-0.880204</td>\n",
       "    </tr>\n",
       "    <tr>\n",
       "      <th>31</th>\n",
       "      <td>TYR:324</td>\n",
       "      <td>LJ</td>\n",
       "      <td>-4.774365</td>\n",
       "    </tr>\n",
       "    <tr>\n",
       "      <th>32</th>\n",
       "      <td>TYR:324</td>\n",
       "      <td>total</td>\n",
       "      <td>-5.654569</td>\n",
       "    </tr>\n",
       "    <tr>\n",
       "      <th>33</th>\n",
       "      <td>ASN:326</td>\n",
       "      <td>coulomb</td>\n",
       "      <td>-11.036958</td>\n",
       "    </tr>\n",
       "    <tr>\n",
       "      <th>34</th>\n",
       "      <td>ASN:326</td>\n",
       "      <td>LJ</td>\n",
       "      <td>0.832073</td>\n",
       "    </tr>\n",
       "    <tr>\n",
       "      <th>35</th>\n",
       "      <td>ASN:326</td>\n",
       "      <td>total</td>\n",
       "      <td>-10.204885</td>\n",
       "    </tr>\n",
       "  </tbody>\n",
       "</table>\n",
       "</div>"
      ],
      "text/plain": [
       "    residue component     energy\n",
       "0     PRT:2   coulomb  -1.871054\n",
       "1     PRT:2        LJ  -3.929312\n",
       "2     PRT:2     total  -5.800366\n",
       "3     MET:3   coulomb  -0.177925\n",
       "4     MET:3        LJ  -2.531279\n",
       "5     MET:3     total  -2.709204\n",
       "6    LYS:33   coulomb -24.507839\n",
       "7    LYS:33        LJ  -3.652179\n",
       "8    LYS:33     total -28.160018\n",
       "9    PRO:34   coulomb   0.388650\n",
       "10   PRO:34        LJ  -2.216911\n",
       "11   PRO:34     total  -1.828261\n",
       "12   TYR:37   coulomb  -2.063485\n",
       "13   TYR:37        LJ  -3.317952\n",
       "14   TYR:37     total  -5.381437\n",
       "15   SER:64   coulomb  -0.420798\n",
       "16   SER:64        LJ  -2.295974\n",
       "17   SER:64     total  -2.716772\n",
       "18   ILE:65   coulomb  -1.177465\n",
       "19   ILE:65        LJ  -3.477019\n",
       "20   ILE:65     total  -4.654484\n",
       "21  MET:102   coulomb   1.280213\n",
       "22  MET:102        LJ  -0.950707\n",
       "23  MET:102     total   0.329506\n",
       "24  VAL:107   coulomb   0.973719\n",
       "25  VAL:107        LJ  -2.228941\n",
       "26  VAL:107     total  -1.255223\n",
       "27  PHE:114   coulomb   0.466897\n",
       "28  PHE:114        LJ  -2.915460\n",
       "29  PHE:114     total  -2.448563\n",
       "30  TYR:324   coulomb  -0.880204\n",
       "31  TYR:324        LJ  -4.774365\n",
       "32  TYR:324     total  -5.654569\n",
       "33  ASN:326   coulomb -11.036958\n",
       "34  ASN:326        LJ   0.832073\n",
       "35  ASN:326     total -10.204885"
      ]
     },
     "execution_count": 17,
     "metadata": {},
     "output_type": "execute_result"
    }
   ],
   "source": [
    "import pandas as pd\n",
    "df = pd.DataFrame(data)\n",
    "df"
   ]
  },
  {
   "cell_type": "code",
   "execution_count": 18,
   "id": "81f4773c-6aba-4834-b6a2-43a7e042a924",
   "metadata": {},
   "outputs": [
    {
     "data": {
      "text/plain": [
       "<AxesSubplot: xlabel='residue'>"
      ]
     },
     "execution_count": 18,
     "metadata": {},
     "output_type": "execute_result"
    },
    {
     "data": {
      "image/png": "[encoded data removed]",
      "text/plain": [
       "<Figure size 640x480 with 1 Axes>"
      ]
     },
     "metadata": {},
     "output_type": "display_data"
    }
   ],
   "source": [
    "df[ df[\"component\"] == \"total\" ].plot.bar(x=\"residue\")"
   ]
  },
  {
   "cell_type": "code",
   "execution_count": 19,
   "id": "c7d79ba4-e948-48be-82f8-9055acd8fc95",
   "metadata": {},
   "outputs": [
    {
     "data": {
      "text/plain": [
       "<AxesSubplot: xlabel='residue'>"
      ]
     },
     "execution_count": 19,
     "metadata": {},
     "output_type": "execute_result"
    },
    {
     "data": {
      "image/png": "[encoded data removed]",
      "text/plain": [
       "<Figure size 640x480 with 1 Axes>"
      ]
     },
     "metadata": {},
     "output_type": "display_data"
    }
   ],
   "source": [
    "df[ df[\"component\"] == \"coulomb\" ].plot.bar(x=\"residue\")"
   ]
  },
  {
   "cell_type": "code",
   "execution_count": 20,
   "id": "97c7eb88-1fc7-4c2f-ad3f-de8626d1c62d",
   "metadata": {},
   "outputs": [
    {
     "data": {
      "application/vnd.jupyter.widget-view+json": {
       "model_id": "840ad7c427c74b719c29ecb5575591eb",
       "version_major": 2,
       "version_minor": 0
      },
      "text/plain": [
       "NGLWidget()"
      ]
     },
     "metadata": {},
     "output_type": "display_data"
    }
   ],
   "source": [
    "mols[\"ligand or (resname LYS and resnum 33)\"].view()"
   ]
  },
  {
   "cell_type": "code",
   "execution_count": 21,
   "id": "4b669d07-1a37-486f-96f0-ca83601a52b8",
   "metadata": {},
   "outputs": [],
   "source": [
    "closest = (1000 * sr.units.angstrom, None, None)\n",
    "\n",
    "for atom0 in mols[\"resname LYS and resnum 33\"].atoms():\n",
    "    for atom1 in ligand:\n",
    "        dist = sr.measure(atom0, atom1)\n",
    "        if dist < closest[0]:\n",
    "            closest = (dist, atom0, atom1)"
   ]
  },
  {
   "cell_type": "code",
   "execution_count": 22,
   "id": "e4c2f10c-cfea-4daf-9cba-4a037d54e6c4",
   "metadata": {},
   "outputs": [
    {
     "name": "stdout",
     "output_type": "stream",
     "text": [
      "(2.40007 Å, Atom( HZ1:514 [  40.32,   45.62,   40.87] ), Atom( NAM:18  [  40.97,   46.16,   43.12] ))\n"
     ]
    }
   ],
   "source": [
    "print(closest)"
   ]
  },
  {
   "cell_type": "code",
   "execution_count": 23,
   "id": "1bf4a132-f413-4900-a961-7c1f67efa67f",
   "metadata": {},
   "outputs": [
    {
     "data": {
      "text/plain": [
       "{'coulomb': -12.7279 kcal mol-1, 'LJ': -0.0355264 kcal mol-1}"
      ]
     },
     "execution_count": 23,
     "metadata": {},
     "output_type": "execute_result"
    }
   ],
   "source": [
    "closest[1].energy(closest[2]).components()"
   ]
  },
  {
   "cell_type": "code",
   "execution_count": null,
   "id": "e440aa96-1db7-4781-bfd2-71fc2cb448ed",
   "metadata": {},
   "outputs": [],
   "source": []
  }
 ],
 "metadata": {
  "kernelspec": {
   "display_name": "Python 3 (ipykernel)",
   "language": "python",
   "name": "python3"
  },
  "language_info": {
   "codemirror_mode": {
    "name": "ipython",
    "version": 3
   },
   "file_extension": ".py",
   "mimetype": "text/x-python",
   "name": "python",
   "nbconvert_exporter": "python",
   "pygments_lexer": "ipython3",
   "version": "3.10.9"
  }
 },
 "nbformat": 4,
 "nbformat_minor": 5
}
