{
 "cells": [
  {
   "cell_type": "code",
   "execution_count": 1,
   "id": "1d98c8c3-ae23-4197-8a56-00e35e52b77c",
   "metadata": {},
   "outputs": [],
   "source": [
    "import sire as sr"
   ]
  },
  {
   "cell_type": "code",
   "execution_count": 2,
   "id": "cbf1423c-ddb7-45e5-8ae0-411d6815138e",
   "metadata": {},
   "outputs": [],
   "source": [
    "url = \"https://github.com/OpenBioSim/posts/raw/main/sire/001_ten_minute\""
   ]
  },
  {
   "cell_type": "code",
   "execution_count": 3,
   "id": "502a0dae-0edd-4c02-acac-c0f11858c4c6",
   "metadata": {},
   "outputs": [
    {
     "name": "stdout",
     "output_type": "stream",
     "text": [
      "Downloading from 'https://github.com/OpenBioSim/posts/raw/main/sire/001_ten_minute/SYSTEM.top'...\n",
      "Unzipping './SYSTEM.top.bz2'...\n",
      "Downloading from 'https://github.com/OpenBioSim/posts/raw/main/sire/001_ten_minute/SYSTEM.crd'...\n",
      "Unzipping './SYSTEM.crd.bz2'...\n"
     ]
    }
   ],
   "source": [
    "mols = sr.load(sr.expand(url, \"SYSTEM.top\", \"SYSTEM.crd\"))"
   ]
  },
  {
   "cell_type": "code",
   "execution_count": 4,
   "id": "3fcb7f7f-29dd-484f-8b90-4ab841817fd1",
   "metadata": {},
   "outputs": [
    {
     "data": {
      "text/plain": [
       "System( name=BioSimSpace Syst num_molecules=18575 num_residues=18914 num_atoms=60695 )"
      ]
     },
     "execution_count": 4,
     "metadata": {},
     "output_type": "execute_result"
    }
   ],
   "source": [
    "mols"
   ]
  },
  {
   "cell_type": "code",
   "execution_count": null,
   "id": "599e5db4-39ec-40b3-8ff6-c0adf6b48f7c",
   "metadata": {},
   "outputs": [],
   "source": [
    "mols[\"water\"]"
   ]
  },
  {
   "cell_type": "code",
   "execution_count": null,
   "id": "c6e23369-b465-48c7-b8e8-aeaeabcd3f93",
   "metadata": {},
   "outputs": [],
   "source": [
    "mols[\"protein\"]"
   ]
  },
  {
   "cell_type": "code",
   "execution_count": null,
   "id": "1d5df435-ba92-4f4d-a045-43e64ebf518b",
   "metadata": {},
   "outputs": [],
   "source": [
    "mols[\"not (protein or water)\"]"
   ]
  },
  {
   "cell_type": "code",
   "execution_count": null,
   "id": "ba5a8950-01d0-4335-94c3-e797c8abd20b",
   "metadata": {},
   "outputs": [],
   "source": [
    "ligand = mols[\"count(atoms) > 1 and not (protein or water)\"]\n",
    "ligand"
   ]
  },
  {
   "cell_type": "code",
   "execution_count": null,
   "id": "2c77499f-2c55-4e45-ad89-cf46cf54828a",
   "metadata": {},
   "outputs": [],
   "source": [
    "ligand.view()"
   ]
  },
  {
   "cell_type": "code",
   "execution_count": null,
   "id": "5aa4cdcc-3882-4b44-bc0c-2ddd7b561402",
   "metadata": {},
   "outputs": [],
   "source": [
    "ligand.energy()"
   ]
  },
  {
   "cell_type": "code",
   "execution_count": null,
   "id": "58725350-54dd-4220-8642-7e607850f9b5",
   "metadata": {},
   "outputs": [],
   "source": [
    "ligand.energy().components()"
   ]
  },
  {
   "cell_type": "code",
   "execution_count": null,
   "id": "5d13462a-f808-472e-8029-ff4a8f222297",
   "metadata": {},
   "outputs": [],
   "source": [
    "sr.search.set_token(\"ligand\", \"count(atoms) > 1 and not (protein or water)\")"
   ]
  },
  {
   "cell_type": "code",
   "execution_count": null,
   "id": "559b3471-0afb-40ac-a206-843a8c91639e",
   "metadata": {},
   "outputs": [],
   "source": [
    "residues = mols[\"(residues within 3 of ligand) and protein\"]"
   ]
  },
  {
   "cell_type": "code",
   "execution_count": null,
   "id": "9fd1d632-c88e-4008-83a3-90b4afcdfe0a",
   "metadata": {},
   "outputs": [],
   "source": [
    "residues.molecules()"
   ]
  },
  {
   "cell_type": "code",
   "execution_count": null,
   "id": "42468701-23ae-472c-a30c-d80ef4805604",
   "metadata": {},
   "outputs": [],
   "source": [
    "residues.view()"
   ]
  },
  {
   "cell_type": "code",
   "execution_count": null,
   "id": "2ecf52dc-19e0-4600-9773-3fd536f71972",
   "metadata": {},
   "outputs": [],
   "source": [
    "data = {\"residue\": [], \"component\": [], \"energy\": []}\n",
    "\n",
    "for residue, energy in residues.apply(lambda res: (res, res.energy(ligand))):\n",
    "    resid = f\"{residue.name().value()}:{residue.number().value()}\"\n",
    "    \n",
    "    for component in energy.components():\n",
    "        data[\"residue\"].append(resid)\n",
    "        data[\"component\"].append(component)\n",
    "        data[\"energy\"].append(energy[component].to(sr.units.kcal_per_mol))\n",
    "    \n",
    "    data[\"residue\"].append(resid)\n",
    "    data[\"component\"].append(\"total\")\n",
    "    data[\"energy\"].append(energy.to(sr.units.kcal_per_mol))"
   ]
  },
  {
   "cell_type": "code",
   "execution_count": null,
   "id": "25c4ae3f-4a49-4ecc-bbc0-c8af1fbd73b2",
   "metadata": {},
   "outputs": [],
   "source": [
    "import pandas as pd\n",
    "df = pd.DataFrame(data)\n",
    "df"
   ]
  },
  {
   "cell_type": "code",
   "execution_count": null,
   "id": "81f4773c-6aba-4834-b6a2-43a7e042a924",
   "metadata": {},
   "outputs": [],
   "source": [
    "df[ df[\"component\"] == \"total\" ].plot.bar(x=\"residue\")"
   ]
  },
  {
   "cell_type": "code",
   "execution_count": null,
   "id": "c7d79ba4-e948-48be-82f8-9055acd8fc95",
   "metadata": {},
   "outputs": [],
   "source": [
    "df[ df[\"component\"] == \"coulomb\" ].plot.bar(x=\"residue\")"
   ]
  },
  {
   "cell_type": "code",
   "execution_count": null,
   "id": "97c7eb88-1fc7-4c2f-ad3f-de8626d1c62d",
   "metadata": {},
   "outputs": [],
   "source": [
    "mols[\"ligand or (resname LYS and resnum 33)\"].view()"
   ]
  },
  {
   "cell_type": "code",
   "execution_count": null,
   "id": "4b669d07-1a37-486f-96f0-ca83601a52b8",
   "metadata": {},
   "outputs": [],
   "source": [
    "closest = (1000 * sr.units.angstrom, None, None)\n",
    "\n",
    "for atom0 in mols[\"resname LYS and resnum 33\"].atoms():\n",
    "    for atom1 in ligand:\n",
    "        dist = sr.measure(atom0, atom1)\n",
    "        if dist < closest[0]:\n",
    "            closest = (dist, atom0, atom1)"
   ]
  },
  {
   "cell_type": "code",
   "execution_count": null,
   "id": "e4c2f10c-cfea-4daf-9cba-4a037d54e6c4",
   "metadata": {},
   "outputs": [],
   "source": [
    "print(closest)"
   ]
  },
  {
   "cell_type": "code",
   "execution_count": null,
   "id": "1bf4a132-f413-4900-a961-7c1f67efa67f",
   "metadata": {},
   "outputs": [],
   "source": [
    "closest[1].energy(closest[2]).components()"
   ]
  },
  {
   "cell_type": "code",
   "execution_count": null,
   "id": "e440aa96-1db7-4781-bfd2-71fc2cb448ed",
   "metadata": {},
   "outputs": [],
   "source": []
  }
 ],
 "metadata": {
  "kernelspec": {
   "display_name": "Python 3 (ipykernel)",
   "language": "python",
   "name": "python3"
  },
  "language_info": {
   "codemirror_mode": {
    "name": "ipython",
    "version": 3
   },
   "file_extension": ".py",
   "mimetype": "text/x-python",
   "name": "python",
   "nbconvert_exporter": "python",
   "pygments_lexer": "ipython3",
   "version": "3.10.9"
  }
 },
 "nbformat": 4,
 "nbformat_minor": 5
}
