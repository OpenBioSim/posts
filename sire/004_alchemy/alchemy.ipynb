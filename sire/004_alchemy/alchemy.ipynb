{
 "cells": [
  {
   "cell_type": "markdown",
   "id": "61897dd2-199e-4630-b87a-68aa1385f3c7",
   "metadata": {},
   "source": [
    "# Sire diaries: GPU-accelerated free energies\n",
    "\n",
    "The [2023.4 release](https://sire.openbiosim.org) introduces support for [GPU-accelerated molecular dynamics alchemical free energy simulations](https://sire.openbiosim.org/tutorial/index_part06.html). This builds on the [integration with OpenMM]() introduced in the 2023.2 release, and the support for [trajectories](https://sire.openbiosim.org/versions/devel/cheatsheet/trajectory.html) and [units](https://sire.openbiosim.org/versions/devel/cheatsheet/units.html) introduced in 2023.3.\n",
    "\n",
    "In this post, we will show how you can run a relative hydration free energy simulation, and then process the results using [alchemlyb](https://alchemlyb.readthedocs.io/en/latest/).\n",
    "\n",
    "The concept of a [merged molecule](https://sire.openbiosim.org/tutorial/part06/01_merge.html) is central to the way that free energy calculations are implemented in sire. A merged molecule is one that represents both a “reference” state and a “perturbed” state. These are the two states that the free energy simulation will morph between, and for which the free energy difference will be calculated.\n",
    "\n",
    "For example, here we have pre-prepared a merged molecule that represents the perturbation from ethane to methanol."
   ]
  },
  {
   "cell_type": "code",
   "execution_count": null,
   "id": "56505f68-a9a5-4978-a19c-ec69c64400df",
   "metadata": {},
   "outputs": [],
   "source": [
    "import sire as sr\n",
    "mols = sr.load(sr.expand(sr.tutorial_url, \"merged_molecule.s3\"))"
   ]
  },
  {
   "cell_type": "markdown",
   "id": "54ce7489-1385-40f4-9a13-949809207a6a",
   "metadata": {},
   "source": [
    "This system contains a single merged molecule in a box of water. Merged molecules are idenfitied by the molecule property is_perturbable, which will be True. We can extract the merged molecule from this system using"
   ]
  },
  {
   "cell_type": "code",
   "execution_count": null,
   "id": "90776bac-04a0-4bf0-8865-5696b006cc31",
   "metadata": {},
   "outputs": [],
   "source": [
    "mol = mols[\"molecule property is_perturbable\"]\n",
    "print(mol)"
   ]
  },
  {
   "cell_type": "markdown",
   "id": "98b52618-1ea3-43a3-ae7a-84b0e5d6b776",
   "metadata": {},
   "source": [
    "Merged molecules contain two sets of the molecular properties; one that represents the reference state, and one that represents the perturbed state. These are identified by the 0 and 1 suffixes.\n",
    "\n",
    "For example, the reference state atomic charges are in the \"charge0\" property;"
   ]
  },
  {
   "cell_type": "code",
   "execution_count": null,
   "id": "57c1758c-68f4-4798-9476-dbc3ee8215b2",
   "metadata": {},
   "outputs": [],
   "source": [
    "print(mol.property(\"charge0\"))"
   ]
  },
  {
   "cell_type": "markdown",
   "id": "9ff5d026-8356-4b76-82e2-db8049a6cc98",
   "metadata": {},
   "source": [
    "while the perturbed state atomic charges are in the \"charge1\" property:"
   ]
  },
  {
   "cell_type": "code",
   "execution_count": null,
   "id": "649f30cb-da3c-4448-9db2-f14f53e64a7f",
   "metadata": {},
   "outputs": [],
   "source": [
    "print(mol.property(\"charge1\"))"
   ]
  },
  {
   "cell_type": "markdown",
   "id": "14e4b5f5-295f-459e-b7dc-35526479f01c",
   "metadata": {},
   "source": [
    "We can view the perturbed state by linking to its properties, e.g."
   ]
  },
  {
   "cell_type": "code",
   "execution_count": null,
   "id": "139d0914-0acf-4971-a66e-7b5eef95508d",
   "metadata": {},
   "outputs": [],
   "source": [
    "mol = mol.perturbation().link_to_perturbed().commit()\n",
    "mol[\"not element Xx\"].view()"
   ]
  },
  {
   "cell_type": "markdown",
   "id": "09eeda2f-0b60-4b4d-9927-22aa5ed93edf",
   "metadata": {},
   "source": [
    "(noting to only view non-dummy atoms via `mol[\"not element Xx\"]`)\n",
    "\n",
    "We can view the reference state using"
   ]
  },
  {
   "cell_type": "code",
   "execution_count": null,
   "id": "882ee359-57aa-4c24-a558-219b0d3a3ebf",
   "metadata": {},
   "outputs": [],
   "source": [
    "mol = mol.perturbation().link_to_reference().commit()\n",
    "mol.view()"
   ]
  },
  {
   "cell_type": "markdown",
   "id": "ac6f4242-c084-4020-9a96-cf2e730b15bd",
   "metadata": {},
   "source": [
    "A λ-coordinate is used to morph from the reference state (at λ=0) to the perturbed state (at λ=1). We can run dynamics at any λ-value just by passing this in as an argument to the [minimisation and dynamics functions](https://sire.openbiosim.org/tutorial/part06/05_free_energy_perturbation.html)."
   ]
  },
  {
   "cell_type": "code",
   "execution_count": null,
   "id": "c76ebdc0-b9bf-4acb-b596-48a48b1c1c80",
   "metadata": {},
   "outputs": [],
   "source": [
    "mol = mol.minimisation(lambda_value=0.5).run().commit()"
   ]
  },
  {
   "cell_type": "code",
   "execution_count": null,
   "id": "c2ff9997-1ef2-496e-94b3-600e95eb41d9",
   "metadata": {},
   "outputs": [],
   "source": [
    "d = mol.dynamics(lambda_value=0.5, temperature=\"25oC\")\n",
    "d.run(\"10ps\")\n",
    "print(d)"
   ]
  },
  {
   "cell_type": "markdown",
   "id": "0a726e5d-17dd-46a2-9d70-84dd2fc908f8",
   "metadata": {},
   "source": [
    "The next step is to calculate and store the energy during the trajectory of the molecules as a function of λ. We do this by creating an [EnergyTrajectory](https://sire.openbiosim.org/tutorial/part06/05_free_energy_perturbation.html). We do this by telling the dynamics simulation to save the energy periodically, via the `energy_frequency` argument."
   ]
  },
  {
   "cell_type": "code",
   "execution_count": null,
   "id": "7520dd08-d956-48d6-ac62-e81cb627a3a4",
   "metadata": {},
   "outputs": [],
   "source": [
    "d = mol.dynamics(lambda_value=0.5, temperature=\"25oC\")\n",
    "d.run(\"10ps\", energy_frequency=\"0.1ps\")\n",
    "print(d)"
   ]
  },
  {
   "cell_type": "markdown",
   "id": "504204a0-b99d-48a6-8c0d-dad26e74d21a",
   "metadata": {},
   "source": [
    "The energy trajectory is retrieved via the `energy_trajectory()` function."
   ]
  },
  {
   "cell_type": "code",
   "execution_count": null,
   "id": "df316f30-a54a-487e-9422-c4e5ad119b48",
   "metadata": {},
   "outputs": [],
   "source": [
    "t = d.energy_trajectory()\n",
    "print(t)"
   ]
  },
  {
   "cell_type": "markdown",
   "id": "e3ac6594-6f4b-4990-aa18-93cb5436e387",
   "metadata": {},
   "source": [
    "We calculate the free energy across λ by collecting and averaging the energy across many dynamics simulations run across λ. For this to work, the energy at neighbouring λ-values has to be evaluated in addition to the energy for the simulated λ-value. The `lambda_windows` argument lets us tell the simulation to evalute the energy at extra λ-values during the trajectory. \n",
    "\n",
    "For example, let's run the simulation at λ=0.5, while also calculating the energy at λ=0 and λ=1."
   ]
  },
  {
   "cell_type": "code",
   "execution_count": null,
   "id": "1cb467d1-7c73-4a5d-a0e9-0224e421f3b8",
   "metadata": {},
   "outputs": [],
   "source": [
    "d = mol.dynamics(lambda_value=0.5, temperature=\"25oC\")\n",
    "d.run(\"10ps\", energy_frequency=\"0.1ps\", lambda_windows=[0, 1])\n",
    "print(d)\n",
    "\n",
    "t0_5 = d.energy_trajectory()\n",
    "print(t0_5)"
   ]
  },
  {
   "cell_type": "markdown",
   "id": "f866fd3c-0b24-4c1d-b204-d544c6b6732b",
   "metadata": {},
   "source": [
    "To calculate a free energy, we would also need to run simulations at λ=0 and λ=1..."
   ]
  },
  {
   "cell_type": "code",
   "execution_count": null,
   "id": "309a5bde-84e8-4f44-b891-3dbca793b223",
   "metadata": {},
   "outputs": [],
   "source": [
    "d = mol.dynamics(lambda_value=0, temperature=\"25oC\")\n",
    "d.run(\"10ps\", energy_frequency=\"0.1ps\", lambda_windows=[0.5, 1])\n",
    "\n",
    "t0_0 = d.energy_trajectory()\n",
    "\n",
    "d = mol.dynamics(lambda_value=1, temperature=\"25oC\")\n",
    "d.run(\"10ps\", energy_frequency=\"0.1ps\", lambda_windows=[0, 0.5])\n",
    "\n",
    "t1_0 = d.energy_trajectory()"
   ]
  },
  {
   "cell_type": "markdown",
   "id": "8a513495-31d5-46b9-a621-5d326d52f502",
   "metadata": {},
   "source": [
    "[alchemlyb](https://alchemlyb.readthedocs.io/en/latest/) is a great tool that can process a table of energy values across λ, and compute a free energy with associated error.\n",
    "\n",
    "First, we combine the three `EnergyTrajectory` objects to into a single [pandas DataFrame](https://pandas.pydata.org/docs/reference/api/pandas.DataFrame.html) in [alchemlyb format](https://alchemlyb.readthedocs.io/en/latest/parsing.html#u-nk-standard-form)."
   ]
  },
  {
   "cell_type": "code",
   "execution_count": null,
   "id": "ee1666e7-66e2-4e77-a228-9233c357628c",
   "metadata": {},
   "outputs": [],
   "source": [
    "df = sr.morph.to_alchemlyb([t0_0, t0_5, t1_0])\n",
    "print(df)"
   ]
  },
  {
   "cell_type": "markdown",
   "id": "ad588895-f37d-450f-bca7-6fb7cca7eb38",
   "metadata": {},
   "source": [
    "This DataFrame can be passed directly into alchemlyb to calculate the relative free energy using the [BAR method](https://alchemlyb.readthedocs.io/en/latest/estimators/alchemlyb.estimators.BAR.html#alchemlyb.estimators.BAR)."
   ]
  },
  {
   "cell_type": "code",
   "execution_count": null,
   "id": "56b8f56f-ebdf-4e64-80c1-e98873f94a0c",
   "metadata": {},
   "outputs": [],
   "source": [
    "from alchemlyb.estimators import BAR\n",
    "b = BAR()\n",
    "b.fit(df)\n",
    "print(b.delta_f_.loc[0.00, 1.00])"
   ]
  },
  {
   "cell_type": "markdown",
   "id": "02b4aa7a-9d4f-48c8-bbbe-86cbe12f1af6",
   "metadata": {},
   "source": [
    "One of the nice things about alchemlyb is that it is easy to use different free energy estimators to calculate the free energy. Let's try the more accurate [MBAR method](https://alchemlyb.readthedocs.io/en/latest/estimators/alchemlyb.estimators.MBAR.html#alchemlyb.estimators.MBAR)."
   ]
  },
  {
   "cell_type": "code",
   "execution_count": null,
   "id": "6ecb5b28-b2b3-49e8-93e7-efab987a6593",
   "metadata": {},
   "outputs": [],
   "source": [
    "from alchemlyb.estimators import MBAR\n",
    "b = MBAR()\n",
    "b.fit(df)\n",
    "print(b.delta_f_.loc[0.00, 1.00])"
   ]
  },
  {
   "cell_type": "markdown",
   "id": "34872e5a-460a-4d62-886b-18930feb430d",
   "metadata": {},
   "source": [
    "Not bad - both methods agree that the free energy calculated from these simulations is 3.0 kcal mol-1. This is only a rough estimate of the relative free energy, as we only used three λ-windows, and only ran very short (10 ps) dynamics simulations. A better estimate could be made by running more λ-windows and running longer dynamics simulations at each window.\n",
    "\n",
    "[This script](https://sire.openbiosim.org/tutorial/part06/06_faster_fep.html#complete-example-script) let's you run longer simulations across more λ-windows, running the perturbation both for ethane to methanol in the gas phase and also in a box of water. Running 250 ps of dynamics across 21 evenly-spaced λ-windows gives a gas-phase relative free energy of 2.98 +/- 0.01 kcal mol-1. Our value calculated above using only three λ-windows and short simulations is remarkably close!\n",
    "\n",
    "Combining this with the water-phase relative free energy of -3.30 +/- 0.02 kcal mol-1 gives a predicted relative hydration free energy of ethane and methanol of -6.28 +/- 0.02 kcal mol-1. This is in excellent agreement with [values computed with other codes](https://www.pure.ed.ac.uk/ws/portalfiles/portal/75900057/20181010_Michel_reprod.pdf).\n",
    "\n",
    "Now that we know that the free energy code works, our focus now is checking accuracy and performance for protein-ligand relative and absolute binding free energy simulations. To do this, we've implemented support for [restraints](https://sire.openbiosim.org/tutorial/part06/03_restraints.html). These restraints can be [morphed using λ](https://sire.openbiosim.org/tutorial/part06/04_alchemical_restraints.html), via our new [LambdaSchedule objects](https://sire.openbiosim.org/tutorial/part06/02_alchemical_dynamics.html#controlling-perturbations-with-a-schedule). This schedule gives you control over how forcefield parameters and restraints are changed as a function of λ. For example, [here we show](https://sire.openbiosim.org/tutorial/part06/04_alchemical_restraints.html#alchemical-restraints) how you can set up a schedule that slowly turns on some restraints before morphing from the reference molecule to the perturbed molecule. Then, after the morph, these restraints are slowly turned off.\n",
    "\n",
    "We think that this framework, and the concepts of merged molecules and λ-schedules gives a lot of power to users and developers of free energy simulations. We're looking forward to exploring this new functionality ourselves, and also seeing what everyone else in the community creates.\n",
    "\n",
    "As with all of our diaries, if you want to try this yourself, please feel free connect to [try.openbiosim.org](https://try.openbiosim.org) and starting a notebook. You can download the notebook used to generate this post onto the server by running this command in one of the notebook code cells.\n",
    "\n",
    "! wget https://github.com/OpenBioSim/posts/raw/main/sire/004_alchemy/alchemy.ipynb\n",
    "\n",
    "Have a play and [let us know what you think](https://github.com/OpenBioSim/sire/issues)."
   ]
  },
  {
   "cell_type": "code",
   "execution_count": null,
   "id": "2f933ba2-119a-490b-8d45-5e9e1f311315",
   "metadata": {},
   "outputs": [],
   "source": []
  }
 ],
 "metadata": {
  "kernelspec": {
   "display_name": "Python 3 (ipykernel)",
   "language": "python",
   "name": "python3"
  },
  "language_info": {
   "codemirror_mode": {
    "name": "ipython",
    "version": 3
   },
   "file_extension": ".py",
   "mimetype": "text/x-python",
   "name": "python",
   "nbconvert_exporter": "python",
   "pygments_lexer": "ipython3",
   "version": "3.11.5"
  }
 },
 "nbformat": 4,
 "nbformat_minor": 5
}
