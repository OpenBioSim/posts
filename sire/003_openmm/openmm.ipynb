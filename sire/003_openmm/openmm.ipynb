{
 "cells": [
  {
   "cell_type": "markdown",
   "id": "682ad7ad-fba7-4634-b839-21569793fc77",
   "metadata": {},
   "source": [
    "# Sire diaries: Working with OpenMM\n",
    "\n",
    "[OpenMM](https://openmm.org) is a fantastic high performance toolkit for molecular simulation. It is perhaps best known for providing a flexible Python scripting environment for defining and running custom GPU-accelerated molecular dynamics simulations.\n",
    "\n",
    "In the [2023.2 release of sire](https://sire.openbiosim.org) we added new [sire.convert](https://sire.openbiosim.org/tutorial/index_part05.html) functions. In the [last post](https://www.openbiosim.org/working-with-rdkit/) we showed how these functions could be used to interconvert with [RDKit](https://www.rdkit.org), thereby adding both [smiles](https://sire.openbiosim.org/tutorial/part05/03_smiles.html) and [2D visualisation support](https://sire.openbiosim.org/tutorial/part05/02_view.html).\n",
    "\n",
    "In this post, we will show how [sire.convert](https://sire.openbiosim.org/tutorial/index_part05.html) can be used to interconvert with [OpenMM](https://openmm.org). This lets sire be used as an interface for setting up OpenMM simulations. We have also added a higher-level [set of functions](https://sire.openbiosim.org/cheatsheet/openmm.html#higher-level-api) that lets you easily run minimisation and molecular dynamics simulations directly from a set of sire molecules.\n",
    "\n",
    "For example, here, we will load a molecular system, perform minimisation, and then run molecular dynamics."
   ]
  },
  {
   "cell_type": "code",
   "execution_count": null,
   "id": "5baa06ca-1d21-46b5-8c4c-46006e1761ee",
   "metadata": {
    "tags": []
   },
   "outputs": [],
   "source": [
    "import sire as sr\n",
    "\n",
    "# Load the molecules from our \"tutorial\" website\n",
    "mols = sr.load(\n",
    "    sr.expand(sr.tutorial_url, \"ala.top\", \"ala.crd\"), silent=True)\n",
    "\n",
    "# Perform minimisation\n",
    "mols = mols.minimisation().run().commit()\n",
    "\n",
    "# Now perform 10 ps of dynamics, saving a snapshot every 0.5 ps\n",
    "mols = mols.dynamics(\n",
    "            timestep=4*sr.units.femtosecond\n",
    "        ).run(10*sr.units.picosecond,\n",
    "              save_frequency=0.5*sr.units.picosecond).commit()"
   ]
  },
  {
   "cell_type": "markdown",
   "id": "8c57b8ac-5928-4d30-9ddf-fef9d4fb512f",
   "metadata": {},
   "source": [
    "We can view a movie of the resulting trajectory using our [integration with NGLView](https://sire.openbiosim.org/cheatsheet/view.html#id1)."
   ]
  },
  {
   "cell_type": "code",
   "execution_count": null,
   "id": "c35bfc4e-ed93-4b05-b03a-43fb6db132a2",
   "metadata": {
    "tags": []
   },
   "outputs": [],
   "source": [
    "mols.view()"
   ]
  },
  {
   "cell_type": "markdown",
   "id": "717f4d8a-9a06-468f-88d0-ce26b7cb3cb2",
   "metadata": {},
   "source": [
    "We can plot energies of interaction, e.g. between the solute and the water for each of the saved frame of this trajectory using"
   ]
  },
  {
   "cell_type": "code",
   "execution_count": null,
   "id": "8b3144b1-fe68-4803-adff-9636a9fdfc2f",
   "metadata": {
    "tags": []
   },
   "outputs": [],
   "source": [
    "mols[0].trajectory().energy(mols[\"water\"]).pretty_plot()"
   ]
  },
  {
   "cell_type": "markdown",
   "id": "392acc77-895c-43a6-ac77-996be086f12c",
   "metadata": {},
   "source": [
    "This trajectory is, admittedly, very short, on a small molecular system. But the same code would work for larger systems over longer timescales. We just needed something here that you could run easily on our [free notebook server](https://try.openbiosim.org) ;-)\n",
    "\n",
    "Under the hood, this works because [sire.convert](https://sire.openbiosim.org/cheatsheet/openmm.html) has been called to create an OpenMM system from the loaded sire molecules. This was then manipulated using the standard OpenMM functions to run minimisation and dynamics.\n",
    "\n",
    "For example, lets create the OpenMM system from our molecules."
   ]
  },
  {
   "cell_type": "code",
   "execution_count": null,
   "id": "5a8c3889-e04c-49f1-93f2-e1f9c68dcd54",
   "metadata": {
    "tags": []
   },
   "outputs": [],
   "source": [
    "omm = sr.convert.to(mols, \"openmm\")\n",
    "omm"
   ]
  },
  {
   "cell_type": "markdown",
   "id": "5675b232-7c85-4f1d-951d-c6be5d978750",
   "metadata": {},
   "source": [
    "The result is an [openmm.Context](https://docs.openmm.org/latest/api-python/generated/openmm.openmm.Context.html#openmm.openmm.Context). This contains a combination of an [openmm.System](https://docs.openmm.org/latest/api-python/generated/openmm.openmm.System.html#openmm.openmm.System), [openmm.Integrator](https://docs.openmm.org/latest/api-python/library.html#integrators) and [openmm.Platform](https://docs.openmm.org/latest/api-python/generated/openmm.openmm.Platform.html#openmm.openmm.Platform).\n",
    "\n",
    "You can extract these three object using the standard OpenMM functions, e.g."
   ]
  },
  {
   "cell_type": "code",
   "execution_count": null,
   "id": "e7ee128b-d5ce-48df-8e5e-17a571113563",
   "metadata": {
    "tags": []
   },
   "outputs": [],
   "source": [
    "omm_system = omm.getSystem()\n",
    "omm_system"
   ]
  },
  {
   "cell_type": "code",
   "execution_count": null,
   "id": "9d45f14b-3c3f-4f2b-8d24-d0c47d3ececc",
   "metadata": {
    "tags": []
   },
   "outputs": [],
   "source": [
    "omm_integrator = omm.getIntegrator()\n",
    "omm_integrator"
   ]
  },
  {
   "cell_type": "code",
   "execution_count": null,
   "id": "69689311-2b4e-4e85-9238-784d55014e01",
   "metadata": {
    "tags": []
   },
   "outputs": [],
   "source": [
    "omm_platform = omm.getPlatform()\n",
    "omm_platform"
   ]
  },
  {
   "cell_type": "markdown",
   "id": "76e7efcd-68ea-4e45-9f87-1c243b212587",
   "metadata": {},
   "source": [
    "You can combine the `omm_system` with your own choices of integrator or platform using the standard OpenMM API, if you don't like the choices made by sire.\n",
    "\n",
    "To keep the script simple, sire chooses appropriate default settings depending on the molecular system being modelled and the requested simulation timestep. You have complete control of these defaults, and can override any of them using a simple [set of options](https://sire.openbiosim.org/cheatsheet/openmm.html#choosing-options).\n",
    "\n",
    "The way you do this is by manipulating the [Dynamics](https://sire.openbiosim.org/api/mol.html#sire.mol.Dynamics) object which is returned by the `.dynamics()` function."
   ]
  },
  {
   "cell_type": "code",
   "execution_count": null,
   "id": "39996711-cf6e-4b24-ba48-b5103b436230",
   "metadata": {
    "tags": []
   },
   "outputs": [],
   "source": [
    "d = mols.dynamics(timestep=4*sr.units.femtosecond)\n",
    "d"
   ]
  },
  {
   "cell_type": "markdown",
   "id": "d8c38d9a-79ea-45ad-9d44-e49f07c0e817",
   "metadata": {},
   "source": [
    "You can query the current options by calling the `.info()`, `.constraint()` and `.ensemble()` functions"
   ]
  },
  {
   "cell_type": "code",
   "execution_count": null,
   "id": "3fe4c5ee-d22a-4ea8-ad69-00db1e23698b",
   "metadata": {
    "tags": []
   },
   "outputs": [],
   "source": [
    "d.info(), d.constraint(), d.ensemble()"
   ]
  },
  {
   "cell_type": "markdown",
   "id": "0d1a3199-1d01-4654-8f74-1cbd75bb5668",
   "metadata": {
    "tags": []
   },
   "source": [
    "In this case, you can see that sire has detected that the molecules are in a periodic box, and so has switched on PME boundary conditions and set a cutoff of 7.5 Å. \n",
    "\n",
    "It has seen that you haven't specified a temperature or pressure, so it chooses an integrator appropriate for the microcanonical (NVE) ensemble.\n",
    "\n",
    "And it uses your choice of a larger timestep (4 fs) to automatically add constrains to all bonds, and to all angles involving hydrogen (the `bonds-h-angles` constraints).\n",
    "\n",
    "You can easily change these options, by passing in arguments as described in our [detailed guide](https://sire.openbiosim.org/cheatsheet/openmm.html#choosing-options)."
   ]
  },
  {
   "cell_type": "code",
   "execution_count": null,
   "id": "2d396bda-1c36-47fc-b131-b4239144d602",
   "metadata": {
    "tags": []
   },
   "outputs": [],
   "source": [
    "d = mols.dynamics(timestep=1*sr.units.femtosecond,\n",
    "                  map={\"cutoff\": 10*sr.units.angstrom,\n",
    "                       \"temperature\": 25*sr.units.celsius,\n",
    "                       \"cutoff_type\": \"REACTION_FIELD\"})\n",
    "\n",
    "d.info(), d.constraint(), d.ensemble()"
   ]
  },
  {
   "cell_type": "markdown",
   "id": "970eb91a-b5bd-4210-8a58-a0867d9d4acb",
   "metadata": {},
   "source": [
    "In this case, we have now switched to a 10 Å reaction field cutoff, and have an integrator that is suited for the canonical (NVT) ensemble at 25°C. Bond and angle constraints have been automatically disabled as a small timestep is being used (you can force a choice by setting the `constraint` option).\n",
    "\n",
    "We can then run the simulation by calling `d.run()` passing in the amount of time we want to simulate, and the amount of time between saving snapshots. Sire then automatically works out the required number of simulation steps based on this, and the desired timestep."
   ]
  },
  {
   "cell_type": "code",
   "execution_count": null,
   "id": "4ec0e72b-545d-4c94-86e5-99112da07467",
   "metadata": {
    "tags": []
   },
   "outputs": [],
   "source": [
    "d.run(2*sr.units.picosecond, \n",
    "      save_frequency=0.1*sr.units.picosecond)"
   ]
  },
  {
   "cell_type": "markdown",
   "id": "70d9f8a6-f5f0-4466-8be1-95a59a4c4223",
   "metadata": {},
   "source": [
    "We can call this `.run()` function as often as we want, changing the amount of time to simulate and the `save_frequency` as we desire. The coordinates will be appended to our now ever-growing trajectory."
   ]
  },
  {
   "cell_type": "code",
   "execution_count": null,
   "id": "0c2a7efe-e0e9-4bcc-85b8-f329736726e7",
   "metadata": {
    "tags": []
   },
   "outputs": [],
   "source": [
    "d.run(5*sr.units.picosecond,\n",
    "      save_frequency=1*sr.units.picosecond)"
   ]
  },
  {
   "cell_type": "markdown",
   "id": "73ce2258-d115-4cee-9b46-275ec2290c0b",
   "metadata": {},
   "source": [
    "To finish, we commit this simulation back, converting it back into a sire molecular system. This can be viewed or processed, just as if it had been loaded from a file."
   ]
  },
  {
   "cell_type": "code",
   "execution_count": null,
   "id": "2c0b0645-908e-4730-a605-cd52243f65c3",
   "metadata": {
    "tags": []
   },
   "outputs": [],
   "source": [
    "mols = d.commit()\n",
    "mols.view()"
   ]
  },
  {
   "cell_type": "code",
   "execution_count": null,
   "id": "3226fdd7-fafc-4f20-8e23-bbfda8859fae",
   "metadata": {
    "tags": []
   },
   "outputs": [],
   "source": [
    "mols[0].trajectory().energy(mols[\"water\"]).pretty_plot()"
   ]
  },
  {
   "cell_type": "markdown",
   "id": "a42e4fbd-d787-43ae-8503-7e4dcd099ca6",
   "metadata": {},
   "source": [
    "Notice how the different values of `save_frequency` for our there trajectories appear differently in the movie and in the above energy graph.\n",
    "\n",
    "You are not limited to simulating all the molecules. You can simulate any molecule. For example, here we will run MD on the solute (first molecule) loaded from another file."
   ]
  },
  {
   "cell_type": "code",
   "execution_count": null,
   "id": "76625cba-8112-4972-bd37-6d3be22ed633",
   "metadata": {
    "tags": []
   },
   "outputs": [],
   "source": [
    "mols = sr.load(sr.expand(sr.tutorial_url, \n",
    "                         \"ala.top\", \"ala.crd\"), silent=True)\n",
    "mol = mols[0].dynamics(\n",
    "                timestep=4*sr.units.femtosecond\n",
    "            ).run(\n",
    "                10*sr.units.picosecond,\n",
    "                save_frequency=0.1*sr.units.picosecond\n",
    "            ).commit()"
   ]
  },
  {
   "cell_type": "code",
   "execution_count": null,
   "id": "af5d35f0-1817-4573-9786-34a137c5259e",
   "metadata": {
    "tags": []
   },
   "outputs": [],
   "source": [
    "mol.view()"
   ]
  },
  {
   "cell_type": "code",
   "execution_count": null,
   "id": "5500b695-a40e-4ec6-b57a-4cda6f30d28c",
   "metadata": {
    "tags": []
   },
   "outputs": [],
   "source": [
    "mol.trajectory().energy().pretty_plot()"
   ]
  },
  {
   "cell_type": "markdown",
   "id": "a088d2f9-ce54-451e-a365-0c4749bc2d52",
   "metadata": {},
   "source": [
    "This is just the beginning of what we have planned using our integration with [OpenMM](https://openmm.org). We have better trajectory support which will be part of our `2023.3.0` release later this month, and plans for even more interesting functionality that should be ready for `2023.4.0` later this year. Keep an eye on our [GitHub repo](https://github.com/openbiosim/sire) if you want to know more ;-)\n",
    "\n",
    "As with all of our diaries, if you want to try this yourself, please feel free connect to [try.openbiosim.org](https://try.openbiosim.org) and starting a notebook. You can download the notebook used to generate this post onto the server by running this command in one of the notebook code cells.\n",
    "\n",
    "! wget https://github.com/OpenBioSim/posts/raw/main/sire/003_openmm/openmm.ipynb\n",
    "\n",
    "Have a play and [let us know what you think](https://github.com/OpenBioSim/sire/issues). Look forward to our next blog post, where we will show you how to use the new code that will be in `2023.3.0` to load, save, edit and convert molecular trajectories."
   ]
  }
 ],
 "metadata": {
  "kernelspec": {
   "display_name": "Python 3 (ipykernel)",
   "language": "python",
   "name": "python3"
  },
  "language_info": {
   "codemirror_mode": {
    "name": "ipython",
    "version": 3
   },
   "file_extension": ".py",
   "mimetype": "text/x-python",
   "name": "python",
   "nbconvert_exporter": "python",
   "pygments_lexer": "ipython3",
   "version": "3.10.10"
  }
 },
 "nbformat": 4,
 "nbformat_minor": 5
}
