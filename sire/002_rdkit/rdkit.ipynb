{
 "cells": [
  {
   "cell_type": "markdown",
   "id": "c035c4e5-7118-4dfa-affa-6558f42417f1",
   "metadata": {},
   "source": [
    "# Working with RDKit\n",
    "\n",
    "[RDKit](https://www.rdkit.org) is a fantastic open source cheminformatics package. It provides a wealth of tools, including powerful functionality for working with [smiles](https://github.com/suneelbvs/rdkit_tutorials/blob/master/1_Reading%20and%20Writing%20Smiles%20using%20rdKit.ipynb) and drawing [two-dimensional representations of molecules](https://www.rdkit.org/docs/Cookbook.html).\n",
    "\n",
    "In the [2023.2 release of sire](https://sire.openbiosim.org) we new added [sire.convert](https://sire.openbiosim.org/tutorial/index_part05.html) functions. These enables [sire](https://sire.openbiosim.org) to interconvert with [RDKit](https://www.rdkit.org), thereby adding both [smiles](https://sire.openbiosim.org/tutorial/part05/03_smiles.html) and [2D visualisation support](https://sire.openbiosim.org/tutorial/part05/02_view.html).\n",
    "\n",
    "For example, here we could use [RDKit](https://www.rdkit.org) directly to create a molecule from a smiles string, and to generate optimised 3D coordinates."
   ]
  },
  {
   "cell_type": "code",
   "execution_count": null,
   "id": "89e18577-1256-4c63-9801-4ce99aad449e",
   "metadata": {
    "tags": []
   },
   "outputs": [],
   "source": [
    "from rdkit import Chem\n",
    "from rdkit.Chem import AllChem\n",
    "\n",
    "rdkit_mol = Chem.MolFromSmiles(\n",
    "    \"CC1([C@@H](N2[C@H](S1)[C@@H](C2=O)NC(=O)CC3=CC=CC=C3)C(=O)O)C\")\n",
    "\n",
    "rdkit_mol = AllChem.AddHs(rdkit_mol)\n",
    "AllChem.EmbedMolecule(rdkit_mol)\n",
    "AllChem.UFFOptimizeMolecule(rdkit_mol)\n",
    "\n",
    "rdkit_mol"
   ]
  },
  {
   "cell_type": "markdown",
   "id": "a1fa59d2-96a1-49cb-abe5-dbb771b34298",
   "metadata": {},
   "source": [
    "With [sire.convert](https://sire.openbiosim.org/api/index_convert.html) we can convert this [RDKit](https://www.rdkit.org) molecule into a [sire](https://sire.openbiosim.org) molecule! This allows us to use [sire's integration with NGLView](https://sire.openbiosim.org/cheatsheet/view.html#id1) to get a nice 3D view of the molecule."
   ]
  },
  {
   "cell_type": "code",
   "execution_count": null,
   "id": "c9d84a86-5147-4840-93e8-0a410244a271",
   "metadata": {
    "tags": []
   },
   "outputs": [],
   "source": [
    "import sire as sr\n",
    "\n",
    "sr_mol = sr.convert.to(rdkit_mol, \"sire\")\n",
    "sr_mol.view()"
   ]
  },
  {
   "cell_type": "markdown",
   "id": "245ebf6d-d348-471e-a0ce-09995d66943c",
   "metadata": {},
   "source": [
    "To make things easier, we've wrapped up the [RDKit](https://www.rdkit.org) code, and put it behind a new function, [sire.smiles](https://sire.openbiosim.org/api/sire.html#sire.smiles)."
   ]
  },
  {
   "cell_type": "code",
   "execution_count": null,
   "id": "e36e5a99-0a08-41e8-9358-0ac78c360058",
   "metadata": {
    "tags": []
   },
   "outputs": [],
   "source": [
    "sr_mol = sr.smiles(\n",
    "    \"CC1([C@@H](N2[C@H](S1)[C@@H](C2=O)NC(=O)CC3=CC=CC=C3)C(=O)O)C\")\n",
    "\n",
    "sr_mol.view()"
   ]
  },
  {
   "cell_type": "markdown",
   "id": "e9ecafbe-8468-49b5-8f3e-41a137ef1d20",
   "metadata": {},
   "source": [
    "Conversions can go both ways. This means that we can use [sire.convert](https://sire.openbiosim.org/api/index_convert.html) to go back from the [sire](https://sire.openbiosim.org) molecule to the [RDKit](https://www.rdkit.org) molecule."
   ]
  },
  {
   "cell_type": "code",
   "execution_count": null,
   "id": "2790999e-d835-4e08-8846-b790f67cc03d",
   "metadata": {
    "tags": []
   },
   "outputs": [],
   "source": [
    "rdkit_mol = sr.convert.to(sr_mol, \"rdkit\")\n",
    "rdkit_mol"
   ]
  },
  {
   "cell_type": "markdown",
   "id": "e3dec4a2-2ffb-4c3c-8139-92d3e636180c",
   "metadata": {},
   "source": [
    "[RDKit](https://www.rdkit.org) has great functionality for generating the smiles strings from molecules, e.g. using [rdkit.Chem.MolToSmiles](https://rdkit.org/docs/source/rdkit.Chem.rdmolfiles.html#rdkit.Chem.rdmolfiles.MolToSmiles)."
   ]
  },
  {
   "cell_type": "code",
   "execution_count": null,
   "id": "40f04a9d-001e-4b76-b2b5-1b7606cce1e0",
   "metadata": {
    "tags": []
   },
   "outputs": [],
   "source": [
    "Chem.MolToSmiles(rdkit_mol)"
   ]
  },
  {
   "cell_type": "markdown",
   "id": "dd8a6b0b-4a0a-41f3-b541-e9fdd73f2bc1",
   "metadata": {},
   "source": [
    "We have wrapped up this code and exposed it as a new [.smiles](https://sire.openbiosim.org/api/mol.html#sire.mol.SelectorMol.smiles) function on all of our molecular containers."
   ]
  },
  {
   "cell_type": "code",
   "execution_count": null,
   "id": "38105015-b713-4f68-a1d3-7a171c867501",
   "metadata": {
    "tags": []
   },
   "outputs": [],
   "source": [
    "sr_mol.smiles(include_hydrogens=True)"
   ]
  },
  {
   "cell_type": "markdown",
   "id": "2dc6f27f-2ece-430c-9e6d-2f913a8cb343",
   "metadata": {},
   "source": [
    "Here, we included hydrogens, which makes the smiles string a bit long! By default, we only include hydrogens that are needed to resolve structural ambiguities."
   ]
  },
  {
   "cell_type": "code",
   "execution_count": null,
   "id": "02b5c1fe-6def-46e9-ab1b-16f80c4e370a",
   "metadata": {
    "tags": []
   },
   "outputs": [],
   "source": [
    "sr_mol.smiles()"
   ]
  },
  {
   "cell_type": "markdown",
   "id": "9bf726cc-0a9b-4d27-a18f-6fab603816ca",
   "metadata": {},
   "source": [
    "In addition to creating smiles strings, [RDKit](https://www.rdkit.org) can also be used to create [2D images of molecules](https://www.rdkit.org/docs/Cookbook.html). We've wrapped up this code into a new [.view2d](https://sire.openbiosim.org/cheatsheet/view.html#d-views) function, which is also available on all molecular containers."
   ]
  },
  {
   "cell_type": "code",
   "execution_count": null,
   "id": "f5d463f8-87e6-4f2a-ab62-cd8996f21c1b",
   "metadata": {
    "tags": []
   },
   "outputs": [],
   "source": [
    "sr_mol.view2d()"
   ]
  },
  {
   "cell_type": "markdown",
   "id": "2828b463-0741-4957-9485-9a93fbc7addb",
   "metadata": {},
   "source": [
    "The powerful thing is that these functions work *even if* the molecule was not originally created by [RDKit](https://www.rdkit.org) or from a smiles string. For example, let's load cholesterol from an SDF file. Cholesterol is included as a [tutorial molecule](https://sire.openbiosim.org/tutorial/part01/02_loading_a_molecule.html#loading-from-files), so we can download it from [sire's tutorial site](https://sire.openbiosim.org/tutorial/part01/05_loading_from_multiple_files.html#loading-from-multiple-files)."
   ]
  },
  {
   "cell_type": "code",
   "execution_count": null,
   "id": "2ee6a267-b765-478a-bf4d-208223cc8ebd",
   "metadata": {
    "tags": []
   },
   "outputs": [],
   "source": [
    "mols = sr.load(sr.expand(sr.tutorial_url, \"cholesterol.sdf\"))\n",
    "mols.view()"
   ]
  },
  {
   "cell_type": "code",
   "execution_count": null,
   "id": "737f8fe7-d394-4929-8839-37dc01a58a0e",
   "metadata": {
    "tags": []
   },
   "outputs": [],
   "source": [
    "mols.smiles()"
   ]
  },
  {
   "cell_type": "code",
   "execution_count": null,
   "id": "139e68d3-9644-4d99-8361-a523195fc340",
   "metadata": {
    "tags": []
   },
   "outputs": [],
   "source": [
    "mols.view2d()"
   ]
  },
  {
   "cell_type": "markdown",
   "id": "3a297b28-c429-4e9e-8641-7b0ffd16c4c4",
   "metadata": {},
   "source": [
    "And, of course, you can convert this molecule to [RDKit](https://rdkit.org), so you can take advantage of all of the other [amazing functionality that RDKit provides!](https://www.rdkit.org/docs/Cookbook.html)"
   ]
  },
  {
   "cell_type": "code",
   "execution_count": null,
   "id": "db23ee05-d441-4427-a9f7-d26d0aea60ba",
   "metadata": {
    "tags": []
   },
   "outputs": [],
   "source": [
    "rdkit_mol = sr.convert.to(mols, \"rdkit\")\n",
    "rdkit_mol"
   ]
  },
  {
   "cell_type": "markdown",
   "id": "f8697844-e8bd-42ee-9489-e521f8f64a99",
   "metadata": {},
   "source": [
    "If you want to try this yourself, please feel free connect to [try.openbiosim.org](https://try.openbiosim.org) and starting a notebook. You can download the notebook used to generate this post onto the server by running this command in one of the notebook code cells.\n",
    "\n",
    "```\n",
    "! wget https://github.com/OpenBioSim/posts/raw/main/sire/002_rdkit/rdkit.ipynb\n",
    "```\n",
    "\n",
    "The new [sire.convert](https://sire.openbiosim.org/tutorial/index_part05.html) functionality can be used to convert to the native types of other popular molecular modelling packages. Look forward to our next blog post, where we will show you how [conversion to OpenMM](https://sire.openbiosim.org/cheatsheet/openmm.html) let's you run [minimisation and molecular dynamics](https://sire.openbiosim.org/tutorial/part05/04_dynamics.html)!"
   ]
  },
  {
   "cell_type": "code",
   "execution_count": null,
   "id": "7c4e5356-2109-441b-b0c2-34e03d264dce",
   "metadata": {},
   "outputs": [],
   "source": []
  }
 ],
 "metadata": {
  "kernelspec": {
   "display_name": "Python 3 (ipykernel)",
   "language": "python",
   "name": "python3"
  },
  "language_info": {
   "codemirror_mode": {
    "name": "ipython",
    "version": 3
   },
   "file_extension": ".py",
   "mimetype": "text/x-python",
   "name": "python",
   "nbconvert_exporter": "python",
   "pygments_lexer": "ipython3",
   "version": "3.10.10"
  }
 },
 "nbformat": 4,
 "nbformat_minor": 5
}
