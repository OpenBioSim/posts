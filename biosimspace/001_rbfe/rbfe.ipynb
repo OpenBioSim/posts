{
 "cells": [
  {
   "cell_type": "markdown",
   "id": "0483473f",
   "metadata": {},
   "source": [
    "# BioSimSpace diaries: Alchemical Relative Free Energy Calculations\n",
    "\n",
    "Alchemical Free Energy (AFE) calculations have become an important technique in computer-aided drug design. If you are relatively new to this field you may have come across the acronym FEP in the context of protein-ligand binding affinity estimations. FEP stands for Free Energy Perturbation, which is just one way to implement an AFE calculation. For more methodological background oreading the best-practices LiveCoMs article from [Mey et al.](https://livecomsjournal.org/index.php/livecoms/article/view/v2i1e18378) is recommended, whereas the review JCIM article from [Cournia et al.](https://pubs.acs.org/doi/full/10.1021/acs.jcim.7b00564) gives a good modern perspective on the status of AFE calculations in drug discovery. \n",
    "\n",
    "AFE calculations have a reputation for having a steep-learning curve. There's a lot of that can go wrong when setting up or analysing AFE calculations. [BioSimSpace](www.biosimspace.openbiosim.org) has made it easier for non-experts to integrate AFE calculations in python-based drug design workflows. \n",
    "\n",
    "This post will give an overview of the AFE functionality available in BioSimSpace 2023.3. We will focus today on relative free energy calculations. \n"
   ]
  },
  {
   "cell_type": "markdown",
   "id": "c5eb94cc",
   "metadata": {},
   "source": [
    "## A simple example first\n",
    "\n",
    "We start with the venerable problem of computing the relative hydration free energy of ethane to methanol, first reported by [Jorgensen and Ravimohan](https://pubs.aip.org/aip/jcp/article-abstract/83/6/3050/89020/Monte-Carlo-simulation-of-differences-in-free?redirectedFrom=fulltext) in 1985. Here we are interested in calculating the difference in free energy changes upon hydrating a molecule of methanol and a molecule of ethane. \n",
    "\n",
    "![A thermodynamic cycle for the calculation of the relative hydration free energy of ethane to methanol](e2m.png)\n",
    "\n",
    "Because free energy is a state function, the total free energy change around the cycle is 0:\n",
    "\n",
    "$\\Delta G^{\\mathrm{ethane}}_{\\mathrm{hyd}} + \\Delta G_{\\mathrm{solv}} - \\Delta G^{\\mathrm{methanol}}_{\\mathrm{hyd}} -  \\Delta G_{\\mathrm{vac}} = 0$\n",
    "\n",
    "This allows us to obtain $\\Delta \\Delta G_{\\mathrm{hyd,\\: ethane-methanol}}$ in terms of $\\Delta G_{\\mathrm{solv}}$ and $\\Delta G_{\\mathrm{vac}}$:\n",
    "\n",
    "$\\Delta G^{\\mathrm{methanol}}_{\\mathrm{hyd}}  - \\Delta G^{\\mathrm{ethane}}_{\\mathrm{hyd}} = \\Delta G_{\\mathrm{solv}} - \\Delta G_{\\mathrm{vac}}$\n",
    "\n",
    "$\\Delta \\Delta G_{\\mathrm{hyd,\\: ethane-methanol}} = \\Delta G_{\\mathrm{solv}} - \\Delta G_{\\mathrm{vac}}$\n",
    "\n",
    "Now we just need to compute these quantities using alchemical simulations.\n",
    "\n",
    "Let's load first input files"
   ]
  },
  {
   "cell_type": "code",
   "execution_count": 1,
   "id": "7eda9604",
   "metadata": {},
   "outputs": [
    {
     "data": {
      "application/vnd.jupyter.widget-view+json": {
       "model_id": "3f7f96bb875d400eb5462010f64ad046",
       "version_major": 2,
       "version_minor": 0
      },
      "text/plain": []
     },
     "metadata": {},
     "output_type": "display_data"
    },
    {
     "name": "stderr",
     "output_type": "stream",
     "text": [
      "INFO:rdkit:Enabling RDKit 2023.03.2 jupyter extensions\n",
      "/Users/julien/mambaforge/envs/openbiosim/lib/python3.9/site-packages/BioSimSpace/IO/_io.py:410: UserWarning: BioSimSpace.IO: Please install GROMACS (http://www.gromacs.org) for GROMACS topology file support.\n",
      "  _warnings.warn(\n",
      "/Users/julien/mambaforge/envs/openbiosim/lib/python3.9/site-packages/BioSimSpace/Process/_somd.py:407: UserWarning: No simulation box found. Assuming gas phase simulation.\n",
      "  _warnings.warn(\"No simulation box found. Assuming gas phase simulation.\")\n",
      "/Users/julien/mambaforge/envs/openbiosim/lib/python3.9/site-packages/BioSimSpace/_Config/_config.py:96: UserWarning: No simulation box found. Assuming gas phase simulation.\n",
      "  _warnings.warn(\"No simulation box found. Assuming gas phase simulation.\")\n",
      "/Users/julien/mambaforge/envs/openbiosim/lib/python3.9/site-packages/BioSimSpace/_Config/_somd.py:209: UserWarning: Cannot use a barostat for a vacuum or non-periodic simulation\n",
      "  _warnings.warn(\n"
     ]
    }
   ],
   "source": [
    "import BioSimSpace as BSS"
   ]
  },
  {
   "cell_type": "code",
   "execution_count": 2,
   "id": "4b5f358b",
   "metadata": {},
   "outputs": [],
   "source": [
    "# We assume the molecules to perturb are the first molecules in each system. (Each file contains a single molecule.)\n",
    "# we use [0] to select this first molecule.\n",
    "ethane = BSS.IO.readMolecules(\"./ethane.pdb\")[0]\n",
    "methanol = BSS.IO.readMolecules(\"./methanol.pdb\")[0]"
   ]
  },
  {
   "cell_type": "code",
   "execution_count": 4,
   "id": "bd878422",
   "metadata": {},
   "outputs": [
    {
     "data": {
      "application/vnd.jupyter.widget-view+json": {
       "model_id": "30dddd175d034aa0b04175f2edc3b0f1",
       "version_major": 2,
       "version_minor": 0
      },
      "text/plain": [
       "ThemeManager()"
      ]
     },
     "metadata": {},
     "output_type": "display_data"
    },
    {
     "data": {
      "application/vnd.jupyter.widget-view+json": {
       "model_id": "6b93e067068f4249966fae0755bd4d25",
       "version_major": 2,
       "version_minor": 0
      },
      "text/plain": [
       "NGLWidget(gui_style='ngl')"
      ]
     },
     "metadata": {},
     "output_type": "display_data"
    }
   ],
   "source": [
    "BSS.Notebook.View(ethane).system()"
   ]
  },
  {
   "cell_type": "code",
   "execution_count": 5,
   "id": "8ab8d605",
   "metadata": {},
   "outputs": [
    {
     "data": {
      "application/vnd.jupyter.widget-view+json": {
       "model_id": "930b6ae26df84b5c8991df84e50b4a0b",
       "version_major": 2,
       "version_minor": 0
      },
      "text/plain": [
       "NGLWidget(gui_style='ngl')"
      ]
     },
     "metadata": {},
     "output_type": "display_data"
    }
   ],
   "source": [
    "BSS.Notebook.View(methanol).system()"
   ]
  },
  {
   "cell_type": "code",
   "execution_count": 6,
   "id": "2c1a643f",
   "metadata": {},
   "outputs": [],
   "source": [
    "ethane = BSS.Parameters.gaff(ethane).getMolecule()\n",
    "methanol = BSS.Parameters.gaff(methanol).getMolecule()"
   ]
  },
  {
   "cell_type": "code",
   "execution_count": 8,
   "id": "02210ffa",
   "metadata": {},
   "outputs": [
    {
     "name": "stdout",
     "output_type": "stream",
     "text": [
      "{0: 0, 1: 2, 2: 1, 3: 4, 4: 3, 6: 5}\n"
     ]
    }
   ],
   "source": [
    "mapping = BSS.Align.matchAtoms(ethane, methanol)\n",
    "print (mapping)"
   ]
  },
  {
   "cell_type": "code",
   "execution_count": 9,
   "id": "ef2ade8a",
   "metadata": {},
   "outputs": [
    {
     "data": {
      "application/3dmoljs_load.v0": "<div id=\"3dmolviewer_1690405584808267\"  style=\"position: relative; width: 900px; height: 450px\">\n        <p id=\"3dmolwarning_1690405584808267\" style=\"background-color:#ffcccc;color:black\">You appear to be running in JupyterLab (or JavaScript failed to load for some other reason).  You need to install the 3dmol extension: <br>\n        <tt>jupyter labextension install jupyterlab_3dmol</tt></p>\n        </div>\n<script>\n\nvar loadScriptAsync = function(uri){\n  return new Promise((resolve, reject) => {\n    //this is to ignore the existence of requirejs amd\n    var savedexports, savedmodule;\n    if (typeof exports !== 'undefined') savedexports = exports;\n    else exports = {}\n    if (typeof module !== 'undefined') savedmodule = module;\n    else module = {}\n\n    var tag = document.createElement('script');\n    tag.src = uri;\n    tag.async = true;\n    tag.onload = () => {\n        exports = savedexports;\n        module = savedmodule;\n        resolve();\n    };\n  var firstScriptTag = document.getElementsByTagName('script')[0];\n  firstScriptTag.parentNode.insertBefore(tag, firstScriptTag);\n});\n};\n\nif(typeof $3Dmolpromise === 'undefined') {\n$3Dmolpromise = null;\n  $3Dmolpromise = loadScriptAsync('https://cdnjs.cloudflare.com/ajax/libs/3Dmol/2.0.1/3Dmol-min.js');\n}\n\nvar viewer_1690405584808267 = null;\nvar warn = document.getElementById(\"3dmolwarning_1690405584808267\");\nif(warn) {\n    warn.parentNode.removeChild(warn);\n}\n$3Dmolpromise.then(function() {\nvar viewergrid_1690405584808267 = null;\nviewergrid_1690405584808267 = $3Dmol.createViewerGrid(document.getElementById(\"3dmolviewer_1690405584808267\"),{rows: 1, cols: 2, control_all: false},{backgroundColor:\"white\"});\nviewer_1690405584808267 = viewergrid_1690405584808267[0][0];\nviewergrid_1690405584808267[0][0].zoomTo();viewergrid_1690405584808267[0][1].zoomTo();\tviewergrid_1690405584808267[0][0].addModel(\"LIG\\n     RDKit          3D\\n\\n  8  7  0  0  0  0  0  0  0  0999 V2000\\n   -0.7650    0.0000    0.0000 C   0  0  0  0  0  0  0  0  0  0  0  0\\n    0.7650    0.0000    0.0000 C   0  0  0  0  0  0  0  0  0  0  0  0\\n   -1.1280   -0.0210   -1.0270 H   0  0  0  0  0  0  0  0  0  0  0  0\\n   -1.1280    0.9000    0.4950 H   0  0  0  0  0  0  0  0  0  0  0  0\\n   -1.1280   -0.8790    0.5320 H   0  0  0  0  0  0  0  0  0  0  0  0\\n    1.1280    0.0210    1.0270 H   0  0  0  0  0  0  0  0  0  0  0  0\\n    1.1280   -0.9000   -0.4950 H   0  0  0  0  0  0  0  0  0  0  0  0\\n    1.1280    0.8790   -0.5320 H   0  0  0  0  0  0  0  0  0  0  0  0\\n  1  2  1  0\\n  1  3  1  0\\n  1  4  1  0\\n  1  5  1  0\\n  2  6  1  0\\n  2  7  1  0\\n  2  8  1  0\\nM  END\\n\",\"mol0\");\n\tviewergrid_1690405584808267[0][1].addModel(\"LIG\\n     RDKit          3D\\n\\n  6  5  0  0  0  0  0  0  0  0999 V2000\\n    0.7370   -0.0150    0.0000 C   0  0  0  0  0  0  0  0  0  0  0  0\\n    1.0700   -0.5490    0.8900 H   0  0  0  0  0  0  0  0  0  0  0  0\\n   -0.6900    0.0680    0.0000 O   0  0  0  0  0  0  0  0  0  0  0  0\\n    1.0700   -0.5490   -0.8900 H   0  0  0  0  0  0  0  0  0  0  0  0\\n    1.1590    0.9900    0.0000 H   0  0  0  0  0  0  0  0  0  0  0  0\\n   -1.1330   -0.7920    0.0000 H   0  0  0  0  0  0  0  0  0  0  0  0\\n  1  2  1  0\\n  1  3  1  0\\n  1  4  1  0\\n  1  5  1  0\\n  3  6  1  0\\nM  END\\n\",\"mol1\");\n\tviewergrid_1690405584808267[0][0].setStyle({\"model\": 0},{\"stick\": {\"colorscheme\": \"grayCarbon\", \"linewidth\": 0.1}});\n\tviewergrid_1690405584808267[0][1].setStyle({\"model\": 0},{\"stick\": {\"colorscheme\": \"grayCarbon\", \"linewidth\": 0.1}});\n\tviewergrid_1690405584808267[0][0].addSphere({\"center\": {\"x\": -0.765, \"y\": 0.0, \"z\": 0.0}, \"radius\": 0.5, \"color\": \"green\", \"alpha\": 0.8});\n\tviewergrid_1690405584808267[0][0].addLabel(\"0 \\u2192 0\",{\"position\": {\"x\": -0.765, \"y\": 0.0, \"z\": 0.0}});\n\tviewergrid_1690405584808267[0][1].addSphere({\"center\": {\"x\": 0.737, \"y\": -0.015, \"z\": 0.0}, \"radius\": 0.5, \"color\": \"green\", \"alpha\": 0.8});\n\tviewergrid_1690405584808267[0][1].addLabel(\"0 \\u2192 0\",{\"position\": {\"x\": 0.737, \"y\": -0.015, \"z\": 0.0}});\n\tviewergrid_1690405584808267[0][0].addSphere({\"center\": {\"x\": 0.765, \"y\": 0.0, \"z\": 0.0}, \"radius\": 0.5, \"color\": \"green\", \"alpha\": 0.8});\n\tviewergrid_1690405584808267[0][0].addLabel(\"1 \\u2192 2\",{\"position\": {\"x\": 0.765, \"y\": 0.0, \"z\": 0.0}});\n\tviewergrid_1690405584808267[0][1].addSphere({\"center\": {\"x\": -0.69, \"y\": 0.068, \"z\": 0.0}, \"radius\": 0.5, \"color\": \"green\", \"alpha\": 0.8});\n\tviewergrid_1690405584808267[0][1].addLabel(\"2 \\u2192 1\",{\"position\": {\"x\": -0.69, \"y\": 0.068, \"z\": 0.0}});\n\tviewergrid_1690405584808267[0][0].addSphere({\"center\": {\"x\": -1.128, \"y\": -0.021, \"z\": -1.027}, \"radius\": 0.5, \"color\": \"green\", \"alpha\": 0.8});\n\tviewergrid_1690405584808267[0][0].addLabel(\"2 \\u2192 1\",{\"position\": {\"x\": -1.128, \"y\": -0.021, \"z\": -1.027}});\n\tviewergrid_1690405584808267[0][1].addSphere({\"center\": {\"x\": 1.07, \"y\": -0.549, \"z\": 0.89}, \"radius\": 0.5, \"color\": \"green\", \"alpha\": 0.8});\n\tviewergrid_1690405584808267[0][1].addLabel(\"1 \\u2192 2\",{\"position\": {\"x\": 1.07, \"y\": -0.549, \"z\": 0.89}});\n\tviewergrid_1690405584808267[0][0].addSphere({\"center\": {\"x\": -1.128, \"y\": 0.9, \"z\": 0.495}, \"radius\": 0.5, \"color\": \"green\", \"alpha\": 0.8});\n\tviewergrid_1690405584808267[0][0].addLabel(\"3 \\u2192 4\",{\"position\": {\"x\": -1.128, \"y\": 0.9, \"z\": 0.495}});\n\tviewergrid_1690405584808267[0][1].addSphere({\"center\": {\"x\": 1.159, \"y\": 0.99, \"z\": 0.0}, \"radius\": 0.5, \"color\": \"green\", \"alpha\": 0.8});\n\tviewergrid_1690405584808267[0][1].addLabel(\"4 \\u2192 3\",{\"position\": {\"x\": 1.159, \"y\": 0.99, \"z\": 0.0}});\n\tviewergrid_1690405584808267[0][0].addSphere({\"center\": {\"x\": -1.128, \"y\": -0.879, \"z\": 0.532}, \"radius\": 0.5, \"color\": \"green\", \"alpha\": 0.8});\n\tviewergrid_1690405584808267[0][0].addLabel(\"4 \\u2192 3\",{\"position\": {\"x\": -1.128, \"y\": -0.879, \"z\": 0.532}});\n\tviewergrid_1690405584808267[0][1].addSphere({\"center\": {\"x\": 1.07, \"y\": -0.549, \"z\": -0.89}, \"radius\": 0.5, \"color\": \"green\", \"alpha\": 0.8});\n\tviewergrid_1690405584808267[0][1].addLabel(\"3 \\u2192 4\",{\"position\": {\"x\": 1.07, \"y\": -0.549, \"z\": -0.89}});\n\tviewergrid_1690405584808267[0][0].addSphere({\"center\": {\"x\": 1.128, \"y\": -0.9, \"z\": -0.495}, \"radius\": 0.5, \"color\": \"green\", \"alpha\": 0.8});\n\tviewergrid_1690405584808267[0][0].addLabel(\"6 \\u2192 5\",{\"position\": {\"x\": 1.128, \"y\": -0.9, \"z\": -0.495}});\n\tviewergrid_1690405584808267[0][1].addSphere({\"center\": {\"x\": -1.133, \"y\": -0.792, \"z\": 0.0}, \"radius\": 0.5, \"color\": \"green\", \"alpha\": 0.8});\n\tviewergrid_1690405584808267[0][1].addLabel(\"5 \\u2192 6\",{\"position\": {\"x\": -1.133, \"y\": -0.792, \"z\": 0.0}});\n\tviewergrid_1690405584808267[0][0].setBackgroundColor(\"white\");\n\tviewergrid_1690405584808267[0][1].setBackgroundColor(\"white\");\n\tviewergrid_1690405584808267[0][0].zoomTo();\n\tviewergrid_1690405584808267[0][1].zoomTo();\nviewergrid_1690405584808267[0][1].render();\nviewergrid_1690405584808267[0][0].render();\n});\n</script>",
      "text/html": [
       "<div id=\"3dmolviewer_1690405584808267\"  style=\"position: relative; width: 900px; height: 450px\">\n",
       "        <p id=\"3dmolwarning_1690405584808267\" style=\"background-color:#ffcccc;color:black\">You appear to be running in JupyterLab (or JavaScript failed to load for some other reason).  You need to install the 3dmol extension: <br>\n",
       "        <tt>jupyter labextension install jupyterlab_3dmol</tt></p>\n",
       "        </div>\n",
       "<script>\n",
       "\n",
       "var loadScriptAsync = function(uri){\n",
       "  return new Promise((resolve, reject) => {\n",
       "    //this is to ignore the existence of requirejs amd\n",
       "    var savedexports, savedmodule;\n",
       "    if (typeof exports !== 'undefined') savedexports = exports;\n",
       "    else exports = {}\n",
       "    if (typeof module !== 'undefined') savedmodule = module;\n",
       "    else module = {}\n",
       "\n",
       "    var tag = document.createElement('script');\n",
       "    tag.src = uri;\n",
       "    tag.async = true;\n",
       "    tag.onload = () => {\n",
       "        exports = savedexports;\n",
       "        module = savedmodule;\n",
       "        resolve();\n",
       "    };\n",
       "  var firstScriptTag = document.getElementsByTagName('script')[0];\n",
       "  firstScriptTag.parentNode.insertBefore(tag, firstScriptTag);\n",
       "});\n",
       "};\n",
       "\n",
       "if(typeof $3Dmolpromise === 'undefined') {\n",
       "$3Dmolpromise = null;\n",
       "  $3Dmolpromise = loadScriptAsync('https://cdnjs.cloudflare.com/ajax/libs/3Dmol/2.0.1/3Dmol-min.js');\n",
       "}\n",
       "\n",
       "var viewer_1690405584808267 = null;\n",
       "var warn = document.getElementById(\"3dmolwarning_1690405584808267\");\n",
       "if(warn) {\n",
       "    warn.parentNode.removeChild(warn);\n",
       "}\n",
       "$3Dmolpromise.then(function() {\n",
       "var viewergrid_1690405584808267 = null;\n",
       "viewergrid_1690405584808267 = $3Dmol.createViewerGrid(document.getElementById(\"3dmolviewer_1690405584808267\"),{rows: 1, cols: 2, control_all: false},{backgroundColor:\"white\"});\n",
       "viewer_1690405584808267 = viewergrid_1690405584808267[0][0];\n",
       "viewergrid_1690405584808267[0][0].zoomTo();viewergrid_1690405584808267[0][1].zoomTo();\tviewergrid_1690405584808267[0][0].addModel(\"LIG\\n     RDKit          3D\\n\\n  8  7  0  0  0  0  0  0  0  0999 V2000\\n   -0.7650    0.0000    0.0000 C   0  0  0  0  0  0  0  0  0  0  0  0\\n    0.7650    0.0000    0.0000 C   0  0  0  0  0  0  0  0  0  0  0  0\\n   -1.1280   -0.0210   -1.0270 H   0  0  0  0  0  0  0  0  0  0  0  0\\n   -1.1280    0.9000    0.4950 H   0  0  0  0  0  0  0  0  0  0  0  0\\n   -1.1280   -0.8790    0.5320 H   0  0  0  0  0  0  0  0  0  0  0  0\\n    1.1280    0.0210    1.0270 H   0  0  0  0  0  0  0  0  0  0  0  0\\n    1.1280   -0.9000   -0.4950 H   0  0  0  0  0  0  0  0  0  0  0  0\\n    1.1280    0.8790   -0.5320 H   0  0  0  0  0  0  0  0  0  0  0  0\\n  1  2  1  0\\n  1  3  1  0\\n  1  4  1  0\\n  1  5  1  0\\n  2  6  1  0\\n  2  7  1  0\\n  2  8  1  0\\nM  END\\n\",\"mol0\");\n",
       "\tviewergrid_1690405584808267[0][1].addModel(\"LIG\\n     RDKit          3D\\n\\n  6  5  0  0  0  0  0  0  0  0999 V2000\\n    0.7370   -0.0150    0.0000 C   0  0  0  0  0  0  0  0  0  0  0  0\\n    1.0700   -0.5490    0.8900 H   0  0  0  0  0  0  0  0  0  0  0  0\\n   -0.6900    0.0680    0.0000 O   0  0  0  0  0  0  0  0  0  0  0  0\\n    1.0700   -0.5490   -0.8900 H   0  0  0  0  0  0  0  0  0  0  0  0\\n    1.1590    0.9900    0.0000 H   0  0  0  0  0  0  0  0  0  0  0  0\\n   -1.1330   -0.7920    0.0000 H   0  0  0  0  0  0  0  0  0  0  0  0\\n  1  2  1  0\\n  1  3  1  0\\n  1  4  1  0\\n  1  5  1  0\\n  3  6  1  0\\nM  END\\n\",\"mol1\");\n",
       "\tviewergrid_1690405584808267[0][0].setStyle({\"model\": 0},{\"stick\": {\"colorscheme\": \"grayCarbon\", \"linewidth\": 0.1}});\n",
       "\tviewergrid_1690405584808267[0][1].setStyle({\"model\": 0},{\"stick\": {\"colorscheme\": \"grayCarbon\", \"linewidth\": 0.1}});\n",
       "\tviewergrid_1690405584808267[0][0].addSphere({\"center\": {\"x\": -0.765, \"y\": 0.0, \"z\": 0.0}, \"radius\": 0.5, \"color\": \"green\", \"alpha\": 0.8});\n",
       "\tviewergrid_1690405584808267[0][0].addLabel(\"0 \\u2192 0\",{\"position\": {\"x\": -0.765, \"y\": 0.0, \"z\": 0.0}});\n",
       "\tviewergrid_1690405584808267[0][1].addSphere({\"center\": {\"x\": 0.737, \"y\": -0.015, \"z\": 0.0}, \"radius\": 0.5, \"color\": \"green\", \"alpha\": 0.8});\n",
       "\tviewergrid_1690405584808267[0][1].addLabel(\"0 \\u2192 0\",{\"position\": {\"x\": 0.737, \"y\": -0.015, \"z\": 0.0}});\n",
       "\tviewergrid_1690405584808267[0][0].addSphere({\"center\": {\"x\": 0.765, \"y\": 0.0, \"z\": 0.0}, \"radius\": 0.5, \"color\": \"green\", \"alpha\": 0.8});\n",
       "\tviewergrid_1690405584808267[0][0].addLabel(\"1 \\u2192 2\",{\"position\": {\"x\": 0.765, \"y\": 0.0, \"z\": 0.0}});\n",
       "\tviewergrid_1690405584808267[0][1].addSphere({\"center\": {\"x\": -0.69, \"y\": 0.068, \"z\": 0.0}, \"radius\": 0.5, \"color\": \"green\", \"alpha\": 0.8});\n",
       "\tviewergrid_1690405584808267[0][1].addLabel(\"2 \\u2192 1\",{\"position\": {\"x\": -0.69, \"y\": 0.068, \"z\": 0.0}});\n",
       "\tviewergrid_1690405584808267[0][0].addSphere({\"center\": {\"x\": -1.128, \"y\": -0.021, \"z\": -1.027}, \"radius\": 0.5, \"color\": \"green\", \"alpha\": 0.8});\n",
       "\tviewergrid_1690405584808267[0][0].addLabel(\"2 \\u2192 1\",{\"position\": {\"x\": -1.128, \"y\": -0.021, \"z\": -1.027}});\n",
       "\tviewergrid_1690405584808267[0][1].addSphere({\"center\": {\"x\": 1.07, \"y\": -0.549, \"z\": 0.89}, \"radius\": 0.5, \"color\": \"green\", \"alpha\": 0.8});\n",
       "\tviewergrid_1690405584808267[0][1].addLabel(\"1 \\u2192 2\",{\"position\": {\"x\": 1.07, \"y\": -0.549, \"z\": 0.89}});\n",
       "\tviewergrid_1690405584808267[0][0].addSphere({\"center\": {\"x\": -1.128, \"y\": 0.9, \"z\": 0.495}, \"radius\": 0.5, \"color\": \"green\", \"alpha\": 0.8});\n",
       "\tviewergrid_1690405584808267[0][0].addLabel(\"3 \\u2192 4\",{\"position\": {\"x\": -1.128, \"y\": 0.9, \"z\": 0.495}});\n",
       "\tviewergrid_1690405584808267[0][1].addSphere({\"center\": {\"x\": 1.159, \"y\": 0.99, \"z\": 0.0}, \"radius\": 0.5, \"color\": \"green\", \"alpha\": 0.8});\n",
       "\tviewergrid_1690405584808267[0][1].addLabel(\"4 \\u2192 3\",{\"position\": {\"x\": 1.159, \"y\": 0.99, \"z\": 0.0}});\n",
       "\tviewergrid_1690405584808267[0][0].addSphere({\"center\": {\"x\": -1.128, \"y\": -0.879, \"z\": 0.532}, \"radius\": 0.5, \"color\": \"green\", \"alpha\": 0.8});\n",
       "\tviewergrid_1690405584808267[0][0].addLabel(\"4 \\u2192 3\",{\"position\": {\"x\": -1.128, \"y\": -0.879, \"z\": 0.532}});\n",
       "\tviewergrid_1690405584808267[0][1].addSphere({\"center\": {\"x\": 1.07, \"y\": -0.549, \"z\": -0.89}, \"radius\": 0.5, \"color\": \"green\", \"alpha\": 0.8});\n",
       "\tviewergrid_1690405584808267[0][1].addLabel(\"3 \\u2192 4\",{\"position\": {\"x\": 1.07, \"y\": -0.549, \"z\": -0.89}});\n",
       "\tviewergrid_1690405584808267[0][0].addSphere({\"center\": {\"x\": 1.128, \"y\": -0.9, \"z\": -0.495}, \"radius\": 0.5, \"color\": \"green\", \"alpha\": 0.8});\n",
       "\tviewergrid_1690405584808267[0][0].addLabel(\"6 \\u2192 5\",{\"position\": {\"x\": 1.128, \"y\": -0.9, \"z\": -0.495}});\n",
       "\tviewergrid_1690405584808267[0][1].addSphere({\"center\": {\"x\": -1.133, \"y\": -0.792, \"z\": 0.0}, \"radius\": 0.5, \"color\": \"green\", \"alpha\": 0.8});\n",
       "\tviewergrid_1690405584808267[0][1].addLabel(\"5 \\u2192 6\",{\"position\": {\"x\": -1.133, \"y\": -0.792, \"z\": 0.0}});\n",
       "\tviewergrid_1690405584808267[0][0].setBackgroundColor(\"white\");\n",
       "\tviewergrid_1690405584808267[0][1].setBackgroundColor(\"white\");\n",
       "\tviewergrid_1690405584808267[0][0].zoomTo();\n",
       "\tviewergrid_1690405584808267[0][1].zoomTo();\n",
       "viewergrid_1690405584808267[0][1].render();\n",
       "viewergrid_1690405584808267[0][0].render();\n",
       "});\n",
       "</script>"
      ]
     },
     "metadata": {},
     "output_type": "display_data"
    },
    {
     "data": {
      "text/plain": [
       "<py3Dmol.view at 0x2904ce1c0>"
      ]
     },
     "execution_count": 9,
     "metadata": {},
     "output_type": "execute_result"
    }
   ],
   "source": [
    "BSS.Align.viewMapping(ethane, methanol, mapping)"
   ]
  },
  {
   "cell_type": "code",
   "execution_count": 13,
   "id": "638de1a1",
   "metadata": {},
   "outputs": [],
   "source": [
    "inv_mapping = {v: k for k, v in mapping.items()}\n",
    "methanol_aligned = BSS.Align.rmsdAlign(methanol, ethane, inv_mapping)"
   ]
  },
  {
   "cell_type": "code",
   "execution_count": 14,
   "id": "edf33a4c",
   "metadata": {},
   "outputs": [],
   "source": [
    "merged = BSS.Align.merge(ethane, methanol_aligned, mapping)"
   ]
  },
  {
   "cell_type": "code",
   "execution_count": 15,
   "id": "b48c1b6a",
   "metadata": {},
   "outputs": [],
   "source": [
    "protocol = BSS.Protocol.FreeEnergy(runtime=0.4*BSS.Units.Time.nanosecond, \n",
    "                                   report_interval=10000,\n",
    "                                   restart_interval=100, num_lam=3)"
   ]
  },
  {
   "cell_type": "code",
   "execution_count": 16,
   "id": "763c3933",
   "metadata": {},
   "outputs": [],
   "source": [
    "fep_vac = BSS.FreeEnergy.Relative(merged.toSystem(), protocol, work_dir=\"ethane_methanol_somd/vacuum\")"
   ]
  },
  {
   "cell_type": "code",
   "execution_count": 17,
   "id": "88516c97",
   "metadata": {},
   "outputs": [],
   "source": [
    "fep_vac.run() # fep_vac.wait()"
   ]
  },
  {
   "cell_type": "code",
   "execution_count": 18,
   "id": "9281ca81",
   "metadata": {},
   "outputs": [],
   "source": [
    "pmf_vac, overlap_matrix_vac = BSS.FreeEnergy.Relative.analyse(f'ethane_methanol_somd/vacuum')"
   ]
  },
  {
   "cell_type": "code",
   "execution_count": 25,
   "id": "83f73cae",
   "metadata": {},
   "outputs": [
    {
     "name": "stdout",
     "output_type": "stream",
     "text": [
      "The free energy change is DG_vac = 2.4297 kcal/mol +/- 0.0582 kcal/mol\n"
     ]
    }
   ],
   "source": [
    "print (\"The free energy change is DG_vac = %s +/- %s\"% (pmf_vac[-1][1], pmf_vac[-1][2]))"
   ]
  },
  {
   "cell_type": "code",
   "execution_count": 26,
   "id": "0fc1d7ec",
   "metadata": {},
   "outputs": [
    {
     "data": {
      "text/html": [
       "<pre style=\"white-space:pre;overflow-x:auto;line-height:normal;font-family:Menlo,'DejaVu Sans Mono',consolas,'Courier New',monospace\"><span style=\"color: #800000; text-decoration-color: #800000\">╭─────────────────────────────── </span><span style=\"color: #800000; text-decoration-color: #800000; font-weight: bold\">Traceback </span><span style=\"color: #bf7f7f; text-decoration-color: #bf7f7f; font-weight: bold\">(most recent call last)</span><span style=\"color: #800000; text-decoration-color: #800000\"> ────────────────────────────────╮</span>\n",
       "<span style=\"color: #800000; text-decoration-color: #800000\">│</span> in <span style=\"color: #00ff00; text-decoration-color: #00ff00\">&lt;module&gt;</span>:<span style=\"color: #0000ff; text-decoration-color: #0000ff\">1</span>                                                                                    <span style=\"color: #800000; text-decoration-color: #800000\">│</span>\n",
       "<span style=\"color: #800000; text-decoration-color: #800000\">│</span>                                                                                                  <span style=\"color: #800000; text-decoration-color: #800000\">│</span>\n",
       "<span style=\"color: #800000; text-decoration-color: #800000\">│</span> <span style=\"color: #800000; text-decoration-color: #800000\">❱ </span>1 fep_vac_gmx = BSS.FreeEnergy.Relative(merged.toSystem(), protocol,                           <span style=\"color: #800000; text-decoration-color: #800000\">│</span>\n",
       "<span style=\"color: #800000; text-decoration-color: #800000\">│</span>   <span style=\"color: #7f7f7f; text-decoration-color: #7f7f7f\">2 </span><span style=\"color: #7f7f7f; text-decoration-color: #7f7f7f\">│   │   │   │   │   │   │   │   │     </span>engine=<span style=\"color: #808000; text-decoration-color: #808000\">\"gromacs\"</span>,                                      <span style=\"color: #800000; text-decoration-color: #800000\">│</span>\n",
       "<span style=\"color: #800000; text-decoration-color: #800000\">│</span>   <span style=\"color: #7f7f7f; text-decoration-color: #7f7f7f\">3 </span><span style=\"color: #7f7f7f; text-decoration-color: #7f7f7f\">│   │   │   │   │   │   │   │   │     </span>work_dir=<span style=\"color: #808000; text-decoration-color: #808000\">\"ethane_methanol_gmx/vacuum\"</span>)                 <span style=\"color: #800000; text-decoration-color: #800000\">│</span>\n",
       "<span style=\"color: #800000; text-decoration-color: #800000\">│</span>   <span style=\"color: #7f7f7f; text-decoration-color: #7f7f7f\">4 </span>                                                                                             <span style=\"color: #800000; text-decoration-color: #800000\">│</span>\n",
       "<span style=\"color: #800000; text-decoration-color: #800000\">│</span>                                                                                                  <span style=\"color: #800000; text-decoration-color: #800000\">│</span>\n",
       "<span style=\"color: #800000; text-decoration-color: #800000\">│</span> <span style=\"color: #bfbf7f; text-decoration-color: #bfbf7f\">/Users/julien/mambaforge/envs/openbiosim/lib/python3.9/site-packages/BioSimSpace/FreeEnergy/</span><span style=\"color: #808000; text-decoration-color: #808000; font-weight: bold\">_rel</span> <span style=\"color: #800000; text-decoration-color: #800000\">│</span>\n",
       "<span style=\"color: #800000; text-decoration-color: #800000\">│</span> <span style=\"color: #808000; text-decoration-color: #808000; font-weight: bold\">ative.py</span>:<span style=\"color: #0000ff; text-decoration-color: #0000ff\">185</span> in <span style=\"color: #00ff00; text-decoration-color: #00ff00\">__init__</span>                                                                         <span style=\"color: #800000; text-decoration-color: #800000\">│</span>\n",
       "<span style=\"color: #800000; text-decoration-color: #800000\">│</span>                                                                                                  <span style=\"color: #800000; text-decoration-color: #800000\">│</span>\n",
       "<span style=\"color: #800000; text-decoration-color: #800000\">│</span>   <span style=\"color: #7f7f7f; text-decoration-color: #7f7f7f\"> 182 </span><span style=\"color: #7f7f7f; text-decoration-color: #7f7f7f\">│   │   │   </span><span style=\"color: #7f7f7f; text-decoration-color: #7f7f7f\"># Make sure GROMACS is installed if GROMACS engine is selected.</span>               <span style=\"color: #800000; text-decoration-color: #800000\">│</span>\n",
       "<span style=\"color: #800000; text-decoration-color: #800000\">│</span>   <span style=\"color: #7f7f7f; text-decoration-color: #7f7f7f\"> 183 </span><span style=\"color: #7f7f7f; text-decoration-color: #7f7f7f\">│   │   │   </span><span style=\"color: #0000ff; text-decoration-color: #0000ff\">if</span> engine == <span style=\"color: #808000; text-decoration-color: #808000\">\"GROMACS\"</span>:                                                       <span style=\"color: #800000; text-decoration-color: #800000\">│</span>\n",
       "<span style=\"color: #800000; text-decoration-color: #800000\">│</span>   <span style=\"color: #7f7f7f; text-decoration-color: #7f7f7f\"> 184 </span><span style=\"color: #7f7f7f; text-decoration-color: #7f7f7f\">│   │   │   │   </span><span style=\"color: #0000ff; text-decoration-color: #0000ff\">if</span> _gmx_exe <span style=\"color: #ff00ff; text-decoration-color: #ff00ff\">is</span> <span style=\"color: #0000ff; text-decoration-color: #0000ff\">None</span>:                                                      <span style=\"color: #800000; text-decoration-color: #800000\">│</span>\n",
       "<span style=\"color: #800000; text-decoration-color: #800000\">│</span> <span style=\"color: #800000; text-decoration-color: #800000\">❱ </span> 185 <span style=\"color: #7f7f7f; text-decoration-color: #7f7f7f\">│   │   │   │   │   </span><span style=\"color: #0000ff; text-decoration-color: #0000ff\">raise</span> _MissingSoftwareError(                                          <span style=\"color: #800000; text-decoration-color: #800000\">│</span>\n",
       "<span style=\"color: #800000; text-decoration-color: #800000\">│</span>   <span style=\"color: #7f7f7f; text-decoration-color: #7f7f7f\"> 186 </span><span style=\"color: #7f7f7f; text-decoration-color: #7f7f7f\">│   │   │   │   │   │   </span><span style=\"color: #808000; text-decoration-color: #808000\">\"Cannot use GROMACS engine as GROMACS is not installed!\"</span>          <span style=\"color: #800000; text-decoration-color: #800000\">│</span>\n",
       "<span style=\"color: #800000; text-decoration-color: #800000\">│</span>   <span style=\"color: #7f7f7f; text-decoration-color: #7f7f7f\"> 187 </span><span style=\"color: #7f7f7f; text-decoration-color: #7f7f7f\">│   │   │   │   │   </span>)                                                                     <span style=\"color: #800000; text-decoration-color: #800000\">│</span>\n",
       "<span style=\"color: #800000; text-decoration-color: #800000\">│</span>   <span style=\"color: #7f7f7f; text-decoration-color: #7f7f7f\"> 188 </span>                                                                                          <span style=\"color: #800000; text-decoration-color: #800000\">│</span>\n",
       "<span style=\"color: #800000; text-decoration-color: #800000\">╰──────────────────────────────────────────────────────────────────────────────────────────────────╯</span>\n",
       "<span style=\"color: #ff0000; text-decoration-color: #ff0000; font-weight: bold\">MissingSoftwareError: </span>Cannot use GROMACS engine as GROMACS is not installed!\n",
       "</pre>\n"
      ],
      "text/plain": [
       "\u001b[31m╭─\u001b[0m\u001b[31m──────────────────────────────\u001b[0m\u001b[31m \u001b[0m\u001b[1;31mTraceback \u001b[0m\u001b[1;2;31m(most recent call last)\u001b[0m\u001b[31m \u001b[0m\u001b[31m───────────────────────────────\u001b[0m\u001b[31m─╮\u001b[0m\n",
       "\u001b[31m│\u001b[0m in \u001b[92m<module>\u001b[0m:\u001b[94m1\u001b[0m                                                                                    \u001b[31m│\u001b[0m\n",
       "\u001b[31m│\u001b[0m                                                                                                  \u001b[31m│\u001b[0m\n",
       "\u001b[31m│\u001b[0m \u001b[31m❱ \u001b[0m1 fep_vac_gmx = BSS.FreeEnergy.Relative(merged.toSystem(), protocol,                           \u001b[31m│\u001b[0m\n",
       "\u001b[31m│\u001b[0m   \u001b[2m2 \u001b[0m\u001b[2m│   │   │   │   │   │   │   │   │     \u001b[0mengine=\u001b[33m\"\u001b[0m\u001b[33mgromacs\u001b[0m\u001b[33m\"\u001b[0m,                                      \u001b[31m│\u001b[0m\n",
       "\u001b[31m│\u001b[0m   \u001b[2m3 \u001b[0m\u001b[2m│   │   │   │   │   │   │   │   │     \u001b[0mwork_dir=\u001b[33m\"\u001b[0m\u001b[33methane_methanol_gmx/vacuum\u001b[0m\u001b[33m\"\u001b[0m)                 \u001b[31m│\u001b[0m\n",
       "\u001b[31m│\u001b[0m   \u001b[2m4 \u001b[0m                                                                                             \u001b[31m│\u001b[0m\n",
       "\u001b[31m│\u001b[0m                                                                                                  \u001b[31m│\u001b[0m\n",
       "\u001b[31m│\u001b[0m \u001b[2;33m/Users/julien/mambaforge/envs/openbiosim/lib/python3.9/site-packages/BioSimSpace/FreeEnergy/\u001b[0m\u001b[1;33m_rel\u001b[0m \u001b[31m│\u001b[0m\n",
       "\u001b[31m│\u001b[0m \u001b[1;33mative.py\u001b[0m:\u001b[94m185\u001b[0m in \u001b[92m__init__\u001b[0m                                                                         \u001b[31m│\u001b[0m\n",
       "\u001b[31m│\u001b[0m                                                                                                  \u001b[31m│\u001b[0m\n",
       "\u001b[31m│\u001b[0m   \u001b[2m 182 \u001b[0m\u001b[2m│   │   │   \u001b[0m\u001b[2m# Make sure GROMACS is installed if GROMACS engine is selected.\u001b[0m               \u001b[31m│\u001b[0m\n",
       "\u001b[31m│\u001b[0m   \u001b[2m 183 \u001b[0m\u001b[2m│   │   │   \u001b[0m\u001b[94mif\u001b[0m engine == \u001b[33m\"\u001b[0m\u001b[33mGROMACS\u001b[0m\u001b[33m\"\u001b[0m:                                                       \u001b[31m│\u001b[0m\n",
       "\u001b[31m│\u001b[0m   \u001b[2m 184 \u001b[0m\u001b[2m│   │   │   │   \u001b[0m\u001b[94mif\u001b[0m _gmx_exe \u001b[95mis\u001b[0m \u001b[94mNone\u001b[0m:                                                      \u001b[31m│\u001b[0m\n",
       "\u001b[31m│\u001b[0m \u001b[31m❱ \u001b[0m 185 \u001b[2m│   │   │   │   │   \u001b[0m\u001b[94mraise\u001b[0m _MissingSoftwareError(                                          \u001b[31m│\u001b[0m\n",
       "\u001b[31m│\u001b[0m   \u001b[2m 186 \u001b[0m\u001b[2m│   │   │   │   │   │   \u001b[0m\u001b[33m\"\u001b[0m\u001b[33mCannot use GROMACS engine as GROMACS is not installed!\u001b[0m\u001b[33m\"\u001b[0m          \u001b[31m│\u001b[0m\n",
       "\u001b[31m│\u001b[0m   \u001b[2m 187 \u001b[0m\u001b[2m│   │   │   │   │   \u001b[0m)                                                                     \u001b[31m│\u001b[0m\n",
       "\u001b[31m│\u001b[0m   \u001b[2m 188 \u001b[0m                                                                                          \u001b[31m│\u001b[0m\n",
       "\u001b[31m╰──────────────────────────────────────────────────────────────────────────────────────────────────╯\u001b[0m\n",
       "\u001b[1;91mMissingSoftwareError: \u001b[0mCannot use GROMACS engine as GROMACS is not installed!\n"
      ]
     },
     "metadata": {},
     "output_type": "display_data"
    }
   ],
   "source": [
    "fep_vac_gmx = BSS.FreeEnergy.Relative(merged.toSystem(), protocol, \n",
    "                                      engine=\"gromacs\",\n",
    "                                      work_dir=\"ethane_methanol_gmx/vacuum\")"
   ]
  },
  {
   "cell_type": "code",
   "execution_count": null,
   "id": "a94e16a1",
   "metadata": {},
   "outputs": [],
   "source": []
  }
 ],
 "metadata": {
  "kernelspec": {
   "display_name": "Python 3 (ipykernel)",
   "language": "python",
   "name": "python3"
  },
  "language_info": {
   "codemirror_mode": {
    "name": "ipython",
    "version": 3
   },
   "file_extension": ".py",
   "mimetype": "text/x-python",
   "name": "python",
   "nbconvert_exporter": "python",
   "pygments_lexer": "ipython3",
   "version": "3.9.16"
  }
 },
 "nbformat": 4,
 "nbformat_minor": 5
}
