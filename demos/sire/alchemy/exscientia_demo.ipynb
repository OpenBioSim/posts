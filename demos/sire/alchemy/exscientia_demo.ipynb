{
 "cells": [
  {
   "cell_type": "markdown",
   "id": "7bf98fe7-a94c-43ce-9e7d-613a683ed417",
   "metadata": {},
   "source": [
    "# Exscientia 2023.4.0 Demo"
   ]
  },
  {
   "cell_type": "code",
   "execution_count": null,
   "id": "76f1120b-ad50-4d8a-8b99-d47f9cc6fee2",
   "metadata": {},
   "outputs": [],
   "source": [
    "import sire as sr"
   ]
  },
  {
   "cell_type": "markdown",
   "id": "2bce16c6-1367-4d9f-8af9-526f525203c6",
   "metadata": {},
   "source": [
    "Central to the free energy functionality is the concept of a merged molecule"
   ]
  },
  {
   "cell_type": "code",
   "execution_count": null,
   "id": "a3fee7f2-65fc-4946-b5a6-010805e2fedb",
   "metadata": {},
   "outputs": [],
   "source": [
    "mols = sr.load(sr.expand(sr.tutorial_url, \"merged_molecule.s3\"))"
   ]
  },
  {
   "cell_type": "markdown",
   "id": "0eb4c0b2-404d-4f54-818c-1d7aeeddfa35",
   "metadata": {},
   "source": [
    "This is a molecule for which `is_perturbable` is `True`, so can be easily extracted from the other molecules."
   ]
  },
  {
   "cell_type": "code",
   "execution_count": null,
   "id": "dedf60da-7047-4d85-8c1a-7316dc55bcac",
   "metadata": {},
   "outputs": [],
   "source": [
    "mol = mols[\"molecule property is_perturbable\"]\n",
    "mol"
   ]
  },
  {
   "cell_type": "markdown",
   "id": "f181fc4d-0bb2-4588-b018-8d51f11fa2a6",
   "metadata": {},
   "source": [
    "Merged molecules have two sets of properties. The `xxx0` properties are for the reference state, while the `xxx1` properties are for the perturbed state."
   ]
  },
  {
   "cell_type": "code",
   "execution_count": null,
   "id": "0f8bc148-07ad-4909-812f-2eaaf2611740",
   "metadata": {},
   "outputs": [],
   "source": [
    "mol.property(\"charge0\")"
   ]
  },
  {
   "cell_type": "code",
   "execution_count": null,
   "id": "e3069618-fd61-4999-82f1-c5bb72e2eadf",
   "metadata": {},
   "outputs": [],
   "source": [
    "mol.property(\"charge1\")"
   ]
  },
  {
   "cell_type": "markdown",
   "id": "1f731d8b-7481-4606-ba2d-babc9ef63558",
   "metadata": {},
   "source": [
    "We need to choose which of these two states should be the \"default\" view of the molecule. Here we will choose the reference state, which we will view."
   ]
  },
  {
   "cell_type": "code",
   "execution_count": null,
   "id": "6b61ac85-60e1-4c19-910e-ba079e523afe",
   "metadata": {},
   "outputs": [],
   "source": [
    "mol = mol.perturbation().link_to_reference().commit()\n",
    "mol.view()"
   ]
  },
  {
   "cell_type": "markdown",
   "id": "ad1714f8-1b49-407a-b622-900cb7ec1f51",
   "metadata": {},
   "source": [
    "Here we choose the perturbed state as the default, and view all of the non-ghost atoms."
   ]
  },
  {
   "cell_type": "code",
   "execution_count": null,
   "id": "ee0aaf18-8bdf-4f7b-94bf-8dbe76309f5a",
   "metadata": {},
   "outputs": [],
   "source": [
    "mol.perturbation().link_to_perturbed().commit()[\"not element Xx\"].view()"
   ]
  },
  {
   "cell_type": "markdown",
   "id": "9d74cb38-b005-44cb-a9c3-5f46abca3896",
   "metadata": {},
   "source": [
    "We also provide extra functions in `sire.morph` that are useful for free energy calculations. For example, we have `sire.morph.repartition_hydrogen_masses()` which exposes the functionality built for BioSimSpace in sire."
   ]
  },
  {
   "cell_type": "code",
   "execution_count": null,
   "id": "e96233f3-c824-4230-99a6-f1c41dc8338c",
   "metadata": {},
   "outputs": [],
   "source": [
    "mol.property(\"mass\")"
   ]
  },
  {
   "cell_type": "code",
   "execution_count": null,
   "id": "fccf6dea-65ca-4062-9f70-6b2529fabdde",
   "metadata": {},
   "outputs": [],
   "source": [
    "mol = sr.morph.repartition_hydrogen_masses(mol)\n",
    "mol.property(\"mass\")"
   ]
  },
  {
   "cell_type": "markdown",
   "id": "0a43d47c-ab12-434a-9e9e-c223baaedee4",
   "metadata": {},
   "source": [
    "Now we've updated the molecule, let's minimise it at λ=0.5, applying no constraints to the merged molecule, but constraint the `h-bonds` for all other molecules."
   ]
  },
  {
   "cell_type": "code",
   "execution_count": null,
   "id": "bfc2c7e4-b825-4b1e-8942-30d06debffaf",
   "metadata": {},
   "outputs": [],
   "source": [
    "mols.update(mol)\n",
    "mols = mols.minimisation(lambda_value=0.5, \n",
    "                         constraint=\"h-bonds\", \n",
    "                         perturbable_constraint=\"none\").run().commit()"
   ]
  },
  {
   "cell_type": "markdown",
   "id": "83d3f794-cfc6-42a9-8ea4-caa532bb0b61",
   "metadata": {},
   "source": [
    "We are now ready to run dynamics at the same λ-value using the same constraints."
   ]
  },
  {
   "cell_type": "code",
   "execution_count": null,
   "id": "ab8df976-318c-47f2-9f6b-11f1cd221d60",
   "metadata": {},
   "outputs": [],
   "source": [
    "d = mols.dynamics(timestep=\"4fs\", \n",
    "                  temperature=\"25oC\", \n",
    "                  constraint=\"h-bonds\",\n",
    "                  perturbable_constraint=\"none\",\n",
    "                  lambda_value=0.5)}"
   ]
  },
  {
   "cell_type": "markdown",
   "id": "a73fc677-0fc1-4b1b-95fb-e16dbc9a629a",
   "metadata": {},
   "source": [
    "Let's run 10 ps of dynamics, collecting energies every 0.5 ps"
   ]
  },
  {
   "cell_type": "code",
   "execution_count": null,
   "id": "d630a93c-8d60-41a5-87fe-b5f90c4a8f97",
   "metadata": {},
   "outputs": [],
   "source": [
    "d.run(\"10ps\", energy_frequency=\"0.5ps\")"
   ]
  },
  {
   "cell_type": "markdown",
   "id": "23242555-9926-4149-91df-ef78ddc58ded",
   "metadata": {},
   "source": [
    "The energy trajectory is available via the `energy_trajectory` function. Unsurprisingly, it is an `EnergyTrajectory` object."
   ]
  },
  {
   "cell_type": "code",
   "execution_count": null,
   "id": "45d540a0-221e-4082-9baa-9f1dc4923201",
   "metadata": {},
   "outputs": [],
   "source": [
    "d.energy_trajectory()"
   ]
  },
  {
   "cell_type": "markdown",
   "id": "9e900bc7-fe8e-4979-ae5a-525100e421ed",
   "metadata": {},
   "source": [
    "Let's run another 10 ps of dynamics, but this time let's also calculate the energies at λ=0 and λ=1 for every step along the trajectory at λ=0.5"
   ]
  },
  {
   "cell_type": "code",
   "execution_count": null,
   "id": "d3491070-599f-44a9-b4e2-9078335fb96d",
   "metadata": {},
   "outputs": [],
   "source": [
    "d.run(\"10ps\", energy_frequency=\"0.5ps\", lambda_windows=[0.0, 1.0])"
   ]
  },
  {
   "cell_type": "code",
   "execution_count": null,
   "id": "b0c83e02-1a89-4fb0-a8a2-a7135ce2b4ad",
   "metadata": {},
   "outputs": [],
   "source": [
    "e = d.energy_trajectory()\n",
    "e"
   ]
  },
  {
   "cell_type": "markdown",
   "id": "d93c069a-8bad-428f-8c99-aaaab9db2e8b",
   "metadata": {},
   "source": [
    "It is easier to see the trajectory as a pandas DataFrame."
   ]
  },
  {
   "cell_type": "code",
   "execution_count": null,
   "id": "2455d0ce-851a-46f2-918a-22b06c492410",
   "metadata": {},
   "outputs": [],
   "source": [
    "e.to_pandas()"
   ]
  },
  {
   "cell_type": "markdown",
   "id": "d585a4f9-faea-440b-9d27-3e9bb4d3f6f2",
   "metadata": {},
   "source": [
    "Even better, let's use a pandas DataFrame that has been formatted to be compatible with alchemlyb :-)"
   ]
  },
  {
   "cell_type": "code",
   "execution_count": null,
   "id": "87f4a04d-68a6-4cff-98f8-4047d98a1f62",
   "metadata": {},
   "outputs": [],
   "source": [
    "a = e.to_alchemlyb()\n",
    "a"
   ]
  },
  {
   "cell_type": "code",
   "execution_count": null,
   "id": "773e8b06-9698-439b-9608-adc047be58ab",
   "metadata": {},
   "outputs": [],
   "source": [
    "a.attrs"
   ]
  },
  {
   "cell_type": "markdown",
   "id": "01d14e79-83cc-4de2-ab6d-2196e04aef70",
   "metadata": {},
   "source": [
    "We can calculate relative free energies lots of different methods. The simplest would be just running dynamics at different λ-values, and calculating the energy to neighbouring λ-values. There's example of such a script in [the tutorial](https://sire.openbiosim.org/tutorial/part06/06_faster_fep.html#complete-example-script).\n",
    "\n",
    "In good Blue Peter style, I've run it on my computer so here's on I made earlier ;-)]"
   ]
  },
  {
   "cell_type": "code",
   "execution_count": null,
   "id": "135b6e49-8d9c-4afb-af53-d11663f53cbd",
   "metadata": {},
   "outputs": [],
   "source": [
    "!ls bluepeter"
   ]
  },
  {
   "cell_type": "markdown",
   "id": "8f4ef2a4-e258-48f8-b6d0-34bc2bc98a90",
   "metadata": {},
   "source": [
    "In this case, we've streamed the `EnergyTrajectory` objects and saved them in the sire saved stream format (.s3, also the same as .bss). This is a compact, compressed, binary format that perfectly encodes all of the information about the energy trajectory, including the λ-values, temperature, energy units etc.\n",
    "\n",
    "The `sire.morph.to_alchemlyb` function can convert a whole set of `EnergyTrajectory` objects (reading them from disk if needed) into a single alchemlyb-compatible DataFrame. This does the work needed to arrange the `EnergyTrajectory` objects from each λ-value into the right order so that the right free energy is calculated."
   ]
  },
  {
   "cell_type": "code",
   "execution_count": null,
   "id": "ea532743-163e-4d59-a292-2a369ca74fb1",
   "metadata": {},
   "outputs": [],
   "source": [
    "de_water = sr.morph.to_alchemlyb(\"bluepeter/energy_water_*\")\n",
    "de_water"
   ]
  },
  {
   "cell_type": "code",
   "execution_count": null,
   "id": "16b7ec75-d330-4a51-a47c-e1b5cba0e34f",
   "metadata": {},
   "outputs": [],
   "source": [
    "de_water.attrs"
   ]
  },
  {
   "cell_type": "markdown",
   "id": "b4537bea-0676-46f6-8553-d45bee50d945",
   "metadata": {},
   "source": [
    "This is now ready for free energy estimation using the BAR method (using BAR as, in this case, we only have the energies for neighbouring λ-windows)"
   ]
  },
  {
   "cell_type": "code",
   "execution_count": null,
   "id": "cff39d2b-1eea-45bc-84dd-873201e0afc5",
   "metadata": {},
   "outputs": [],
   "source": [
    "from alchemlyb.estimators import BAR"
   ]
  },
  {
   "cell_type": "code",
   "execution_count": null,
   "id": "0dba37bf-a357-4b13-8dea-c55d3609e474",
   "metadata": {},
   "outputs": [],
   "source": [
    "bar = BAR()\n",
    "bar.fit(de_water)\n",
    "dG_water = bar.delta_f_.loc[0.00, 1.00]\n",
    "dG_water"
   ]
  },
  {
   "cell_type": "markdown",
   "id": "2be78aa9-cf80-4e0f-831d-2a21f03238ff",
   "metadata": {},
   "source": [
    "Let's do the same for the vacuum leg..."
   ]
  },
  {
   "cell_type": "code",
   "execution_count": null,
   "id": "0a880a26-78f5-4874-8570-6cf45d8d5e65",
   "metadata": {},
   "outputs": [],
   "source": [
    "de_vac = sr.morph.to_alchemlyb(\"bluepeter/energy_vacuum_*\")\n",
    "bar = BAR()\n",
    "bar.fit(de_vac)\n",
    "dG_vac = bar.delta_f_.loc[0.00, 1.00]\n",
    "dG_vac"
   ]
  },
  {
   "cell_type": "markdown",
   "id": "81263576-760a-425a-9464-88ab72293e60",
   "metadata": {},
   "source": [
    "The relative hydration free energy of ethane and methanol is..."
   ]
  },
  {
   "cell_type": "code",
   "execution_count": null,
   "id": "a8ded7be-bab6-4b29-9e81-61abd6fa2f9b",
   "metadata": {},
   "outputs": [],
   "source": [
    "dG_water - dG_vac"
   ]
  },
  {
   "cell_type": "markdown",
   "id": "770e0a55-bb2e-401b-9a12-faec49eea9b9",
   "metadata": {},
   "source": [
    "We are compatible with all of the functionality in alchemlyb, e.g. here we pass in our s3 files to calculate and plot convergence."
   ]
  },
  {
   "cell_type": "code",
   "execution_count": null,
   "id": "905fa6bc-e14e-4b97-90fb-6c51d8256268",
   "metadata": {},
   "outputs": [],
   "source": [
    "from glob import glob\n",
    "from alchemlyb.convergence import forward_backward_convergence\n",
    "from alchemlyb.visualisation import plot_convergence\n",
    "dfs = []\n",
    "s3files = glob(\"bluepeter/energy_water*.s3\")\n",
    "s3files.sort()\n",
    "for s3 in s3files:\n",
    "   dfs.append(sr.stream.load(s3).to_alchemlyb())\n",
    "f = forward_backward_convergence(dfs, \"bar\")\n",
    "plot_convergence(f)"
   ]
  },
  {
   "cell_type": "markdown",
   "id": "fe73f727-e4a3-466b-8766-06800770d5cd",
   "metadata": {},
   "source": [
    "Under the hood, this is all based on STANDARD OpenMM. The `mols.dynamics()` function just simplifies the function calls that are needed to create the OpenMM context. The context is seen hidden in the `Dynamics` object..."
   ]
  },
  {
   "cell_type": "code",
   "execution_count": null,
   "id": "035249e6-bc02-4416-b530-90b777fa5e7b",
   "metadata": {},
   "outputs": [],
   "source": [
    "d = mols.dynamics(timestep=\"4fs\", temperature=\"25oC\", lambda_value=0.5)\n",
    "d"
   ]
  },
  {
   "cell_type": "code",
   "execution_count": null,
   "id": "4ed8ee24-e11a-4a81-989b-249ca137c857",
   "metadata": {},
   "outputs": [],
   "source": [
    "d._d._omm_mols"
   ]
  },
  {
   "cell_type": "markdown",
   "id": "0ee40707-4ac5-4846-a075-483f633e5eaa",
   "metadata": {},
   "source": [
    "We could have created this ourselves directly using the `sr.convert` function."
   ]
  },
  {
   "cell_type": "code",
   "execution_count": null,
   "id": "5efaf986-af32-42aa-a0bc-5a93eb340400",
   "metadata": {},
   "outputs": [],
   "source": [
    "c = sr.convert.to(mols, \"openmm\", map={\"timestep\": sr.u(\"4fs\"),\n",
    "                                       \"temperature\": sr.u(\"25oC\"),\n",
    "                                       \"lambda_value\": 0.5,\n",
    "                                       \"constraint\": \"h-bonds\",\n",
    "                                       \"perturbable_constraint\": \"none\"})\n",
    "c"
   ]
  },
  {
   "cell_type": "markdown",
   "id": "7b944095-217a-418f-bc80-918a03fac5a0",
   "metadata": {},
   "source": [
    "We have created a small overload of the openmm.Context class that holds additional metadata and provides some convenience functions for updating the parameters in the forces for the different values of λ."
   ]
  },
  {
   "cell_type": "code",
   "execution_count": null,
   "id": "0318a93d-e6ab-492f-9f20-ccdb1303eed9",
   "metadata": {},
   "outputs": [],
   "source": [
    "c.__class__, c.__class__.__bases__"
   ]
  },
  {
   "cell_type": "code",
   "execution_count": null,
   "id": "1058b8f7-7956-46ee-9ec3-a9cb8ca0600b",
   "metadata": {},
   "outputs": [],
   "source": [
    "help(c)"
   ]
  },
  {
   "cell_type": "markdown",
   "id": "27710dab-55ff-4001-a75e-8e008dbb9b5d",
   "metadata": {},
   "source": [
    "All the existing OpenMM functions are the same, e.g. you can still get and use the System and Integrator as before..."
   ]
  },
  {
   "cell_type": "code",
   "execution_count": null,
   "id": "a60a013e-689b-4488-b517-90fef2cbb58d",
   "metadata": {},
   "outputs": [],
   "source": [
    "c.getSystem()"
   ]
  },
  {
   "cell_type": "code",
   "execution_count": null,
   "id": "da4c176c-6f45-4748-82ed-53f1c2ce1bc5",
   "metadata": {},
   "outputs": [],
   "source": [
    "c.getIntegrator()"
   ]
  },
  {
   "cell_type": "markdown",
   "id": "22bdb36e-ab69-4914-8521-501617394bd2",
   "metadata": {},
   "source": [
    "But now we have some additional pure python functions that let you easily set the parameters for different λ-values and ask OpenMM to calculate energies."
   ]
  },
  {
   "cell_type": "code",
   "execution_count": null,
   "id": "0ad74318-4835-4257-94a4-7801122853a2",
   "metadata": {},
   "outputs": [],
   "source": [
    "c.set_lambda(0.2)"
   ]
  },
  {
   "cell_type": "code",
   "execution_count": null,
   "id": "4e578a96-02c8-4daf-8d7b-4a306a0e0053",
   "metadata": {},
   "outputs": [],
   "source": [
    "c.get_potential_energy()"
   ]
  },
  {
   "cell_type": "code",
   "execution_count": null,
   "id": "ec2fcfac-987d-433a-a0a9-0460038905db",
   "metadata": {},
   "outputs": [],
   "source": [
    "for l in range(0, 11):\n",
    "    lam = l / 10.0\n",
    "    c.set_lambda(lam)\n",
    "    print(lam, c.get_potential_energy())"
   ]
  },
  {
   "cell_type": "code",
   "execution_count": null,
   "id": "17c3069c-11e0-45ce-b439-d0df523a0ae3",
   "metadata": {},
   "outputs": [],
   "source": [
    "integrator = c.getIntegrator()\n",
    "integrator.step(100)\n",
    "print(c.get_potential_energy())\n",
    "c.set_lambda(0.5)\n",
    "print(c.get_potential_energy())"
   ]
  },
  {
   "cell_type": "markdown",
   "id": "208d19f6-ec8f-4e93-9046-e482f1bd7404",
   "metadata": {},
   "source": [
    "Perturbations are handled via almost completely standard OpenMM Forces."
   ]
  },
  {
   "cell_type": "code",
   "execution_count": null,
   "id": "fccca083-d033-47d8-ac73-006ec95902d1",
   "metadata": {},
   "outputs": [],
   "source": [
    "c.getSystem().getForces()"
   ]
  },
  {
   "cell_type": "markdown",
   "id": "9be5c17c-11c6-436f-b9b0-9c3caaa9a2a0",
   "metadata": {},
   "source": [
    "This means that we are compatible with lots of cool functionality in OpenMM, and we directly support PME without doing any additional work :-)\n",
    "\n",
    "Perturbations are handled via a `LambdaLever` class which stores the parameters for the molecules and can interpolate those parameters for different values of λ.\n",
    "\n",
    "The `LambdaLever` then calls `updateParametersInContext` for all the forces, thus updating the parameters in the OpenMM Context for the desired λ-value. This means that λ DOES NOT exist in the OpenMM Context, and there is NO slowdown caused by use of custom forcefields that try to perturb parameters by λ directly within the integrator.\n",
    "\n",
    "A further benefit is that we have a huge amount of flexibility over how we perturb parameters with λ.\n",
    "\n",
    "This is controlled using a `LambdaSchedule`. This class describes the schedule by which parameters will be morphed as a function of λ."
   ]
  },
  {
   "cell_type": "code",
   "execution_count": null,
   "id": "551ec356-0048-482e-af31-35f03f87b308",
   "metadata": {},
   "outputs": [],
   "source": [
    "l = sr.cas.LambdaSchedule()\n",
    "l"
   ]
  },
  {
   "cell_type": "markdown",
   "id": "7df39419-0b2b-4fba-a5be-0daea57cd914",
   "metadata": {},
   "source": [
    "First, we will add a simple `morph` stage, which just morphs parameters using the simple morphing equationl"
   ]
  },
  {
   "cell_type": "code",
   "execution_count": null,
   "id": "04092785-d13e-47aa-af06-38c8e7f6ddf2",
   "metadata": {},
   "outputs": [],
   "source": [
    "l.add_stage(\"morph\", (1-l.lam()) * l.initial() + l.lam() * l.final())\n",
    "l"
   ]
  },
  {
   "cell_type": "markdown",
   "id": "8bff7ccb-8cb4-4b9d-ae69-2f7dc560f6c9",
   "metadata": {},
   "source": [
    "This means that all perturbable parameters will be morped from their initial to final values using the above equation.\n",
    "\n",
    "But, lets change the charges by a different equation..."
   ]
  },
  {
   "cell_type": "code",
   "execution_count": null,
   "id": "0c9066cc-064f-4414-bd7a-6f3d92f88ef6",
   "metadata": {},
   "outputs": [],
   "source": [
    "l.set_equation(\"morph\", \"charge\", 0.2 * ((1-l.lam()) * l.initial() + l.lam() * l.final()))\n",
    "l"
   ]
  },
  {
   "cell_type": "markdown",
   "id": "474d8638-b604-4f8a-bb3a-29b34616b55a",
   "metadata": {},
   "source": [
    "We can plot the effect of the lever on some hyperthetical parameters that go from 1 to 2"
   ]
  },
  {
   "cell_type": "code",
   "execution_count": null,
   "id": "bab69945-f75a-4b46-ae21-f86fe905a007",
   "metadata": {},
   "outputs": [],
   "source": [
    "l.get_lever_values(initial=1.0, final=2.0).plot()"
   ]
  },
  {
   "cell_type": "markdown",
   "id": "bcaecfa5-0875-415a-960c-428bee507ff3",
   "metadata": {},
   "source": [
    "And maybe we want to scale the LJ epsilon parameter by λ squared..."
   ]
  },
  {
   "cell_type": "code",
   "execution_count": null,
   "id": "64579a76-e4f4-4ac6-8bd1-22bfdcf0792a",
   "metadata": {},
   "outputs": [],
   "source": [
    "l.set_equation(\"morph\", \"epsilon\", (1-l.lam()**2) * l.initial() + l.lam()**2 * l.final())\n",
    "l.get_lever_values(initial=1.0, final=2.0).plot()"
   ]
  },
  {
   "cell_type": "markdown",
   "id": "047be1de-50e1-4e33-8534-387bdd891d78",
   "metadata": {},
   "source": [
    "This is super powerful. For example, here is how you would create a `LambdaSchedule` that scales down the charges before performing the morph, and then scales the charges back to normal."
   ]
  },
  {
   "cell_type": "code",
   "execution_count": null,
   "id": "66aac1f2-d1e2-45bd-b7fd-de2b2a30cc7e",
   "metadata": {},
   "outputs": [],
   "source": [
    "l = sr.cas.LambdaSchedule()\n",
    "l.add_morph_stage(\"morph\")\n",
    "l.add_charge_scale_stages(\"decharge\", \"recharge\", scale=0.2)\n",
    "l.get_lever_values(initial=1.0, final=2.0).plot()"
   ]
  },
  {
   "cell_type": "markdown",
   "id": "90b4673b-39a3-4c71-9fa3-2b7474cab521",
   "metadata": {},
   "source": [
    "Or here is the schedule for turning on restraints that are held on during the morph, and then switched off afterwards..."
   ]
  },
  {
   "cell_type": "code",
   "execution_count": null,
   "id": "4a5aa555-2b7a-4c05-b268-e82d0d614d65",
   "metadata": {},
   "outputs": [],
   "source": [
    "l = sr.cas.LambdaSchedule()\n",
    "l.add_stage(\"restraints_on\", l.initial())\n",
    "l.add_stage(\"morph\", (1-l.lam()) * l.initial() + l.lam() * l.final())\n",
    "l.add_stage(\"restraints_off\", l.final())\n",
    "l.set_equation(\"restraints_on\", \"restraint\", l.lam() * l.initial())\n",
    "l.set_equation(\"restraints_off\", \"restraint\", (1-l.lam()) * l.initial())\n",
    "l.set_equation(\"morph\", \"restraint\", l.initial())\n",
    "\n",
    "l.get_lever_values(initial=1.0, final=2.0).plot()"
   ]
  },
  {
   "cell_type": "markdown",
   "id": "6ad59bbf-46b0-482a-a70d-a4e045c3fb71",
   "metadata": {},
   "source": [
    "Our current implementation supports positional restraints, distance (bond) restraints, and a basic implementation of Boresch restraints.\n",
    "\n",
    "We also now support fixing atoms, e.g. you can freeze all atoms outside a radius from the ligand, and use a positional half-harmonic restraint to hold all other atoms within a sphere centered on the ligand.\n",
    "\n",
    "This is all now available in `sire 2023.4.0`, with functionality fully described in [the tutorial](https://sire.openbiosim.org/tutorial/index_part06.html)."
   ]
  },
  {
   "cell_type": "code",
   "execution_count": null,
   "id": "4729d4d0-d3f1-4d86-bfba-b2be18b4ae7d",
   "metadata": {},
   "outputs": [],
   "source": []
  },
  {
   "cell_type": "code",
   "execution_count": null,
   "id": "ea93afdc-70fb-4b10-9be0-9babe26603ae",
   "metadata": {},
   "outputs": [],
   "source": []
  }
 ],
 "metadata": {
  "kernelspec": {
   "display_name": "Python 3 (ipykernel)",
   "language": "python",
   "name": "python3"
  },
  "language_info": {
   "codemirror_mode": {
    "name": "ipython",
    "version": 3
   },
   "file_extension": ".py",
   "mimetype": "text/x-python",
   "name": "python",
   "nbconvert_exporter": "python",
   "pygments_lexer": "ipython3",
   "version": "3.11.6"
  }
 },
 "nbformat": 4,
 "nbformat_minor": 5
}
